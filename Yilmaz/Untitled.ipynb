{
 "cells": [
  {
   "cell_type": "code",
   "execution_count": 32,
   "metadata": {
    "collapsed": true
   },
   "outputs": [],
   "source": [
    "import numpy as np\n",
    "import time"
   ]
  },
  {
   "cell_type": "code",
   "execution_count": 1,
   "metadata": {
    "collapsed": true
   },
   "outputs": [],
   "source": [
    "def zenith_angle(latitude, declination, hour_angle):\n",
    "    return np.arccos(np.cos(np.deg2rad(latitude)) * np.cos(np.deg2rad(declination)) * np.cos(np.deg2rad(hour_angle)) + np.sin(np.deg2rad(latitude)) * np.sin(np.deg2rad(declination)))\n"
   ]
  },
  {
   "cell_type": "code",
   "execution_count": 30,
   "metadata": {
    "collapsed": true
   },
   "outputs": [],
   "source": [
    "def AST(LST):\n",
    "#     SL = 82.5                                   # Ref longitude for Indian Std Time in deg\n",
    "#     LL = 75.934848\n",
    "    \n",
    "    SL = 90\n",
    "    LL = 89.4\n",
    "    \n",
    "#     N = day_of_year = time.localtime().tm_yday  # Today's day number\n",
    "\n",
    "    N = 34\n",
    "#    B = (N - 81)*360/364\n",
    "    B = np.deg2rad((N-1)*360/365)\n",
    "    print(B)\n",
    "#    ET = 9.87*np.sin(2*B) - 7.53*np.cos(B) - 1.5*np.sin(B)\n",
    "    ET = 229.2*(0.000075 + 0.001868*np.cos(B) - 0.032077*np.sin(B) - 0.014615*np.cos(2*B) - 0.04089*np.sin(2*B))\n",
    "    print(ET)\n",
    "    \n",
    "    AST = LST + ET + 4*(SL - LL)                  # Apparent Solar Time in min\n",
    "    \n",
    "    return AST "
   ]
  },
  {
   "cell_type": "code",
   "execution_count": null,
   "metadata": {
    "collapsed": true
   },
   "outputs": [],
   "source": [
    "def Hour_angle(AST):\n",
    "    hour angle = (AST - 12*60)*0.25"
   ]
  },
  {
   "cell_type": "code",
   "execution_count": 101,
   "metadata": {
    "collapsed": true
   },
   "outputs": [],
   "source": [
    "def declination():\n",
    "    N = 345\n",
    "    B = np.deg2rad((N - 1)*360/365)\n",
    "    declination = (180/np.pi)*(0.006918 - 0.399912*np.cos(B) + 0.070257*np.sin(B) - 0.006758*np.cos(2*B) + 0.000907*np.sin(2*B) - 0.002697*np.cos(3*B) + 0.00148*np.sin(3*B))\n",
    "        # declination angle in deg\n",
    "#     declination = 23.45*np.sin(np.deg2rad((360/365)*(284+N)))\n",
    "#     declination = np.arcsin(np.sin(np.deg2rad(-23.44))*np.cos(np.deg2rad(360/365.24*(N+10) + 360/np.pi * 0.0167*np.sin(360/365.24*(N-2)))))\n",
    "    return declination"
   ]
  },
  {
   "cell_type": "code",
   "execution_count": 99,
   "metadata": {},
   "outputs": [
    {
     "name": "stdout",
     "output_type": "stream",
     "text": [
      "0.568068808594\n",
      "-13.4884569305\n",
      "-11.0884569305\n"
     ]
    }
   ],
   "source": [
    "print (AST(630)-630)"
   ]
  },
  {
   "cell_type": "code",
   "execution_count": 102,
   "metadata": {},
   "outputs": [
    {
     "name": "stdout",
     "output_type": "stream",
     "text": [
      "-22.9315704957\n"
     ]
    }
   ],
   "source": [
    "print(declination())"
   ]
  },
  {
   "cell_type": "code",
   "execution_count": null,
   "metadata": {
    "collapsed": true
   },
   "outputs": [],
   "source": []
  },
  {
   "cell_type": "code",
   "execution_count": 12,
   "metadata": {},
   "outputs": [
    {
     "name": "stdout",
     "output_type": "stream",
     "text": [
      "313\n"
     ]
    }
   ],
   "source": [
    "latitude = 11.321876\n",
    "longitude = 75.934848                           # PG Block; latitude and longitude in deg\n"
   ]
  },
  {
   "cell_type": "code",
   "execution_count": null,
   "metadata": {
    "collapsed": true
   },
   "outputs": [],
   "source": []
  }
 ],
 "metadata": {
  "kernelspec": {
   "display_name": "Python 3",
   "language": "python",
   "name": "python3"
  },
  "language_info": {
   "codemirror_mode": {
    "name": "ipython",
    "version": 3
   },
   "file_extension": ".py",
   "mimetype": "text/x-python",
   "name": "python",
   "nbconvert_exporter": "python",
   "pygments_lexer": "ipython3",
   "version": "3.6.1"
  }
 },
 "nbformat": 4,
 "nbformat_minor": 2
}
