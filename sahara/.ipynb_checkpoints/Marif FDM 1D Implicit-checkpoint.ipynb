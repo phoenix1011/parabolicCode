{
 "cells": [
  {
   "cell_type": "code",
   "execution_count": 1,
   "metadata": {
    "collapsed": true
   },
   "outputs": [],
   "source": [
    "import numpy as np"
   ]
  },
  {
   "cell_type": "code",
   "execution_count": 2,
   "metadata": {
    "collapsed": true
   },
   "outputs": [],
   "source": [
    "def Gauss_Seidel(A, b, x, n):\n",
    "    \"\"\"\n",
    "    Computes x vector from Ax=b linear matrix equation\n",
    "    \"\"\"\n",
    "    \n",
    "    L = np.tril(A)    # L is strictly lower triangluar matrix\n",
    "    U = A - L         # U is upper triangulat matrix\n",
    "    \n",
    "    for i in range(n):\n",
    "        x_new = np.dot(np.linalg.inv(L), b - np.dot(U, x))\n",
    "        \n",
    "        if np.all((abs(x_new-x)<=1e-8)):\n",
    "            break\n",
    "        #print str(i).zfill(3),\n",
    "        \n",
    "        x = x_new\n",
    "        print(x)\n",
    "    \n",
    "    return x"
   ]
  },
  {
   "cell_type": "code",
   "execution_count": 3,
   "metadata": {
    "collapsed": true
   },
   "outputs": [],
   "source": [
    "A = np.array([[1.0, 2.0, 0, 0], [0, 3.0, 4.0, 0], [0, 0, -2, 1], [1, 2, 3, 4]])\n",
    "b = [5, 6, 7, 8]\n",
    "x = [1, 1, 1, 1]"
   ]
  },
  {
   "cell_type": "code",
   "execution_count": 4,
   "metadata": {},
   "outputs": [],
   "source": []
  },
  {
   "cell_type": "code",
   "execution_count": 9,
   "metadata": {},
   "outputs": [
    {
     "data": {
      "text/plain": [
       "0.049456377375000006"
      ]
     },
     "execution_count": 9,
     "metadata": {},
     "output_type": "execute_result"
    }
   ],
   "source": [
    "Thermal_Conductivity_Air(650)"
   ]
  },
  {
   "cell_type": "code",
   "execution_count": 52,
   "metadata": {
    "collapsed": true
   },
   "outputs": [],
   "source": [
    "def Viscosity_Air(T):\n",
    "    \"\"\"\n",
    "    Correlation obtained from Kadoya K, Matsunaga N and Nagashima A - Viscosity and \n",
    "    Thermal Conductivity of Dry Air in the Gaseous Phases\n",
    "    \"\"\"\n",
    "    \n",
    "    Latitude = 11.3218072       # NITC location in degrees\n",
    "    Longitude = 75.9344292\n",
    "    Sea_level = 63              # meters\n",
    "    \n",
    "    Pressure = 101325*np.power((1 - 2.25577e-5*Sea_level), 5.25588)      # Pressure in Pa\n",
    "    \n",
    "    rho = Pressure / (287.058*T)       # density of air in kg m-3\n",
    "    \n",
    "    T_star = 132.5              # K\n",
    "    rho_star = 314.3            # kg/m3\n",
    "    H = 6.1609e-6               # Pa.s\n",
    "    \n",
    "    T_r = T/T_star\n",
    "    rho_r = rho/rho_star\n",
    "    \n",
    "    A = np.array([0.128517, 2.60661, -1.0, -0.709661, 0.662534, -0.197846, 0.00770147 ])\n",
    "    \n",
    "    T_r_mat = np.array([T_r, np.power(T_r, 0.5), np.power(T_r, 0), np.power(T_r, -1), np.power(T_r, -2), np.power(T_r, -3), np.power(T_r, -4)])\n",
    "    \n",
    "    B = np.array([0.465601, 1.26469, -0.511425, 0.2746])\n",
    "    \n",
    "    rho_r_mat = np.array([rho_r, np.power(rho_r, 2), np.power(rho_r, 3), np.power(rho_r, 4)])\n",
    "    \n",
    "    viscosity = H * (np.dot(A, T_r_mat) + np.dot(B, rho_r_mat))\n",
    "    \n",
    "    return viscosity\n",
    "    "
   ]
  },
  {
   "cell_type": "code",
   "execution_count": 58,
   "metadata": {},
   "outputs": [
    {
     "data": {
      "text/plain": [
       "2.0904818415092364e-05"
      ]
     },
     "execution_count": 58,
     "metadata": {},
     "output_type": "execute_result"
    }
   ],
   "source": [
    "Viscosity_Air(350)"
   ]
  },
  {
   "cell_type": "code",
   "execution_count": 76,
   "metadata": {},
   "outputs": [],
   "source": [
    "def Thermal_Conductivity_Air_1(T):\n",
    "    \"\"\"\n",
    "    Correlation obtained from Kadoya K, Matsunaga N and Nagashima A - Viscosity and \n",
    "    Thermal Conductivity of Dry Air in the Gaseous Phases\n",
    "    \"\"\"\n",
    "    \n",
    "    Latitude = 11.3218072       # NITC location in degrees\n",
    "    Longitude = 75.9344292\n",
    "    Sea_level = 63              # meters\n",
    "    \n",
    "    Pressure = 101325*np.power((1 - 2.25577e-5*Sea_level), 5.25588)      # Pressure in Pa\n",
    "    \n",
    "\n",
    "    rho = Pressure / (287.058*T)       # density of air in kg m-3\n",
    "\n",
    "    T_star = 132.5              # K\n",
    "    rho_star = 314.3            # kg/m3\n",
    "    H = 25.9778e-3               # W m-1 K-1\n",
    "    \n",
    "    T_r = T/T_star\n",
    "    rho_r = rho/rho_star\n",
    "    \n",
    "    A = np.array([0.239503, 0.00649768, 1, -1.92615, 2.00383, -1.07553, 0.229414 ])\n",
    "    \n",
    "    T_r_mat = np.array([T_r, np.power(T_r, 0.5), np.power(T_r, 0), np.power(T_r, -1), np.power(T_r, -2), np.power(T_r, -3), np.power(T_r, -4)])\n",
    "    \n",
    "    B = np.array([0.402287, 0.356603, -0.163159, 0.138059, -0.021725])\n",
    "    \n",
    "    rho_r_mat = np.array([rho_r, np.power(rho_r, 2), np.power(rho_r, 3), np.power(rho_r, 4), np.power(rho_r, 5)])\n",
    "    \n",
    "    conductivity = H * (np.dot(A, T_r_mat) + np.dot(B, rho_r_mat))\n",
    "    \n",
    "    return conductivity"
   ]
  },
  {
   "cell_type": "code",
   "execution_count": 78,
   "metadata": {},
   "outputs": [
    {
     "data": {
      "text/plain": [
       "0.067630678718804751"
      ]
     },
     "execution_count": 78,
     "metadata": {},
     "output_type": "execute_result"
    }
   ],
   "source": [
    "Thermal_Conductivity_Air_1(1000)"
   ]
  },
  {
   "cell_type": "code",
   "execution_count": null,
   "metadata": {
    "collapsed": true
   },
   "outputs": [],
   "source": []
  }
 ],
 "metadata": {
  "kernelspec": {
   "display_name": "Python 3",
   "language": "python",
   "name": "python3"
  },
  "language_info": {
   "codemirror_mode": {
    "name": "ipython",
    "version": 3
   },
   "file_extension": ".py",
   "mimetype": "text/x-python",
   "name": "python",
   "nbconvert_exporter": "python",
   "pygments_lexer": "ipython3",
   "version": "3.6.1"
  }
 },
 "nbformat": 4,
 "nbformat_minor": 2
}
