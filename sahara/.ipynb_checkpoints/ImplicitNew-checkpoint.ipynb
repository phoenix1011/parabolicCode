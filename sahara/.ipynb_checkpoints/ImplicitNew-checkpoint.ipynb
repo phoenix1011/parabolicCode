{
 "cells": [
  {
   "cell_type": "code",
   "execution_count": 1,
   "metadata": {
    "collapsed": true
   },
   "outputs": [],
   "source": [
    "import numpy as np"
   ]
  },
  {
   "cell_type": "code",
   "execution_count": 4,
   "metadata": {},
   "outputs": [],
   "source": [
    "def constants():\n",
    "    \n",
    "    k_air\n",
    "    Re_air\n",
    "    Pr_air\n",
    "    Ra_air\n",
    "    \n",
    "    \n",
    "    \n",
    "    D_g_ext\n",
    "    return 1"
   ]
  },
  {
   "cell_type": "code",
   "execution_count": 6,
   "metadata": {
    "collapsed": true
   },
   "outputs": [],
   "source": [
    "def convection_HTC_external_nowind():\n",
    "    \"\"\"\n",
    "    Churchill and Chu; Natural convection between glass envelope and ambient in the absence of wind\n",
    "    Properties of external air evaluatied at avg. temperature i.e. (Tg + Tamb)/2\n",
    "    \n",
    "    Pr_air\n",
    "    Gr_air\n",
    "    Ra_air = Gr_air * Pr_air\n",
    "    k_air\n",
    "    D_g_ext\n",
    "    \"\"\"\n",
    "    \n",
    "    h_c_ext = np.power(0.559/Pr_air, 9/16)\n",
    "    h_c_ext = np.power(1 + h_c_ext, 16/9)\n",
    "    h_c_ext = np.power(Ra_air/h_c_ext, 1/6)\n",
    "    h_c_ext = np.power(0.6 + 0.387*h_c_ext, 2)* k_air/D_g_ext\n",
    "    \n",
    "    return h_c_ext"
   ]
  },
  {
   "cell_type": "code",
   "execution_count": 12,
   "metadata": {},
   "outputs": [],
   "source": [
    "def convection_HTC_external_wind():\n",
    "    \"\"\"\n",
    "    Zhukauskas; Forced convection between glass envelope and ambient in presence of wind\n",
    "    Properties of external air evaluated at ambient temperature Tamb\n",
    "    \n",
    "    Re_air\n",
    "    Pr_air\n",
    "    k_air\n",
    "    D_g_ext\n",
    "    Pr_g    :     prantl no. of air evaluated at glass temperature\n",
    "    \"\"\"\n",
    "    \n",
    "    if (1 < Re_air & Re_air <= 40):\n",
    "        C = 0.75\n",
    "        n = 0.4\n",
    "    elif (40 < Re_air & Re_air <= 1e3):\n",
    "        C = 0.51\n",
    "        n = 0.5\n",
    "    elif (1e3 < Re_air & Re_air <= 2e5):\n",
    "        C = 0.26\n",
    "        n = 0.6\n",
    "    elif (2e5 < Re_air & Re_air <= 1e6):\n",
    "        C = 0.076\n",
    "        n = 0.7\n",
    "    else:\n",
    "        print(\"constants C and n cannot be determined for the valur of Re_air\")\n",
    "        \n",
    "    if (Pr_air <= 10):\n",
    "        m = 0.37\n",
    "    else:\n",
    "        m = 0.36    \n",
    "    \n",
    "    \n",
    "    h_c_ext = C * np.power(Re_air, n) * np.power(Pr_air, m) * np.power(Pr_air/Pr_g, 1/4) * k_air/D_g_ext\n",
    "    \n",
    "    return h_c_ext"
   ]
  },
  {
   "cell_type": "code",
   "execution_count": 13,
   "metadata": {
    "collapsed": true
   },
   "outputs": [],
   "source": [
    "def convection_HTC_internal_pressure():\n",
    "    \"\"\"\n",
    "    Natural convection between two isothermal cylinders\n",
    "    Properties evaluated at avg. temperature i.e. (Tab + Tg)/2\n",
    "    \n",
    "    k_a\n",
    "    Gr_a; Pr_a\n",
    "    Ra_eff = Gr_a * Pr_a\n",
    "    \n",
    "    D_g_int\n",
    "    D_ab_ext\n",
    "    \"\"\"\n",
    "    \n",
    "    Ra_eff = Gr_a * Pr_a\n",
    "    L_eff = (D_g_int - D_ab_ext) / 2\n",
    "    \n",
    "    Ra_c = np.power(np.log(D_g_int / D_ab_ext), 4) / (np.power(L_eff, 3) * np.power ( np.power(D_ab_ext, -3/5) + np.power(D_g_int, -3/5), 5 ) ) * Ra_eff\n",
    "    \n",
    "    k_eff = 0.386*k_a * np.power( Pr_a / (0.861 + Pr_a) ,1/4) * np.power(Ra_c, 1/4)\n",
    "    \n",
    "    h_c_int = 2*k_eff/ (D_ab_ext * np.log(D_g_int/D_ab_ext))\n",
    "    \n",
    "    return h_c_int"
   ]
  },
  {
   "cell_type": "code",
   "execution_count": 15,
   "metadata": {
    "collapsed": true
   },
   "outputs": [],
   "source": [
    "def radiation_HTC_external():\n",
    "    \"\"\"\n",
    "    e_g\n",
    "    T_sky;    T_g   \n",
    "    \"\"\"\n",
    "    h_r_ext = e_g*5.67e-8*(np.square(T_sky) + np.square(T_g)) * (T_sky + T_g)\n",
    "    \n",
    "    return h_r_ext"
   ]
  },
  {
   "cell_type": "code",
   "execution_count": 16,
   "metadata": {
    "collapsed": true
   },
   "outputs": [],
   "source": [
    "def radiation_HTC_internal():\n",
    "    \"\"\"\n",
    "    e_ab;   e_g\n",
    "    T_ab;   T_g\n",
    "    D_ab_ext;    D_g_int\n",
    "    \"\"\"\n",
    "    \n",
    "    e_int - (D_g_int / D_ab_ext) / (1/e_ab + (1-e_g)/e_g)\n",
    "    \n",
    "    h_r_int = e_int * 5.67e-8 * (np.square(T_ab) + np.square(T_g)) * (T_ab + T_g)\n",
    "    \n",
    "    return h_r_int"
   ]
  },
  {
   "cell_type": "code",
   "execution_count": 17,
   "metadata": {
    "collapsed": true
   },
   "outputs": [],
   "source": [
    "def temperature_sky():\n",
    "    \"T_ambient\"\n",
    "    \n",
    "    return 0.0552*np.power(T_ambient, 1.5)"
   ]
  },
  {
   "cell_type": "code",
   "execution_count": 18,
   "metadata": {
    "collapsed": true
   },
   "outputs": [],
   "source": [
    "def useful_HTC_Laminar():\n",
    "    \"\"\"\n",
    "    Gnielinski\n",
    "    D_ab_int;    L\n",
    "    \n",
    "    Re_f\n",
    "    Pr_f\n",
    "    \n",
    "    Properties evaluated at fluid temperature\n",
    "    \"\"\"\n",
    "    \n",
    "    d = D_ab_int / L\n",
    "    Nu_f = np.power( np.power(3.66, 3) + np.power(0.7, 3) + np.power(1.615*np.power(Re_f * Pr_f * d, 1/3) - 0.7 , 3)  + np.power( np.power(2/(1 + 22*Pr_f),1/6) * np.power(Re_f * Pr_f * d, 1/2), 3), 1/3)\n",
    "    \n",
    "    h_u_f = k_f * Nu_f / Dia_absorber_int\n",
    "    \n",
    "    return h_u_f\n",
    "    "
   ]
  },
  {
   "cell_type": "code",
   "execution_count": 19,
   "metadata": {
    "collapsed": true
   },
   "outputs": [],
   "source": [
    "def useful_HTC_Turbulent():\n",
    "    \"\"\"\n",
    "    D_ab_int\n",
    "    \n",
    "    Re_f;    Pr_f;    Pr_ab;\n",
    "    \"\"\"\n",
    "    d = D_ab_int / L\n",
    "    f = np.power(1.8 * np.log10( Re_f) - 1.5, -2)\n",
    "    \n",
    "    Nu_f = ((f/8) * (Re_f - 1000) * (1 + np.power(d, 2/3)) * Pr_f) / (1 + 12.7*np.sqrt(f/8) * (np.power(Pr_f, 2/3) - 1)) * np.power(Pr_f/Pr_ab, 0.11)\n",
    "    \n",
    "    hu_f = k_f * Nu_f / D_ab_int\n",
    "    \n",
    "    return hu_f"
   ]
  },
  {
   "cell_type": "code",
   "execution_count": 21,
   "metadata": {},
   "outputs": [],
   "source": [
    "def useful_HTC_Transition():\n",
    "    \"\"\"\n",
    "    D_ab_int\n",
    "    Re_f\n",
    "    \n",
    "    Nu_Lam calculated by taking Re_f = 2300;   Pr_f = 0.7;    d = 0.0001\n",
    "    Nu_Turb calculated by taking Re_f = 4000;    Pr_f = 0.7;      (Pr_f/Pr_ab)^0.11 = 1;     d = 0.0001\n",
    "    \"\"\"\n",
    "    \n",
    "    #d = D_ab_int / L\n",
    "    d = 0.0001\n",
    "    Pr_f = 0.7\n",
    "    \n",
    "    eta = (Re_f - 2300) / (4000 - 2300)\n",
    "    \n",
    "    Nu_Lam = np.power( np.power(3.66, 3) + np.power(0.7, 3) + np.power(1.615*np.power(2300 * Pr_f * d, 1/3) - 0.7 , 3)  + np.power( np.power(2/(1 + 22*Pr_f),1/6) * np.power(2300 * Pr_f * d, 1/2), 3), 1/3)\n",
    "    \n",
    "    f = np.power(1.8 * np.log( 4000) - 1.5, -2)\n",
    "    Nu_Turb = ((f/8) * (4000 - 1000) * (1 + np.power(d, 2/3)) * Pr_f) / (1 + 12.7*np.sqrt(f/8) * (np.power(Pr_f, 2/3) - 1))\n",
    "    \n",
    "    Nu_f = (1-eta)*Nu_Lam + eta*Nu_Turb\n",
    "    \n",
    "    hu_f = k_f * Nu_f / D_ab_int\n",
    "    \n",
    "    return hu_f"
   ]
  },
  {
   "cell_type": "code",
   "execution_count": null,
   "metadata": {
    "collapsed": true
   },
   "outputs": [],
   "source": []
  }
 ],
 "metadata": {
  "kernelspec": {
   "display_name": "Python 3",
   "language": "python",
   "name": "python3"
  },
  "language_info": {
   "codemirror_mode": {
    "name": "ipython",
    "version": 3
   },
   "file_extension": ".py",
   "mimetype": "text/x-python",
   "name": "python",
   "nbconvert_exporter": "python",
   "pygments_lexer": "ipython3",
   "version": "3.6.3"
  }
 },
 "nbformat": 4,
 "nbformat_minor": 2
}
