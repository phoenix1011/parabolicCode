{
 "cells": [
  {
   "cell_type": "code",
   "execution_count": 53,
   "metadata": {
    "collapsed": true
   },
   "outputs": [],
   "source": [
    "import numpy as np"
   ]
  },
  {
   "cell_type": "code",
   "execution_count": 54,
   "metadata": {
    "collapsed": true
   },
   "outputs": [],
   "source": [
    "def Gauss_Seidel(A, b, x, n):\n",
    "    \"\"\"\n",
    "    Computes x vector from Ax=b linear matrix equation\n",
    "    \"\"\"\n",
    "    \n",
    "    L = np.tril(A)    # L is strictly lower triangluar matrix\n",
    "    U = A - L         # U is upper triangulat matrix\n",
    "    \n",
    "    for i in range(n):\n",
    "        x_new = np.dot(np.linalg.inv(L), b - np.dot(U, x))\n",
    "        \n",
    "        if np.all((abs(x_new-x)<=1e-8)):\n",
    "            break\n",
    "        #print str(i).zfill(3),\n",
    "        \n",
    "        x = x_new\n",
    "        print(x)\n",
    "    \n",
    "    return x"
   ]
  },
  {
   "cell_type": "code",
   "execution_count": 55,
   "metadata": {
    "collapsed": true
   },
   "outputs": [],
   "source": [
    "A = np.array([[1.0, 2.0, 0, 0], [0, 3.0, 4.0, 0], [0, 0, -2, 1], [1, 2, 3, 4]])\n",
    "b = [5, 6, 7, 8]\n",
    "x = [1, 1, 1, 1]"
   ]
  },
  {
   "cell_type": "code",
   "execution_count": null,
   "metadata": {
    "collapsed": true
   },
   "outputs": [],
   "source": []
  },
  {
   "cell_type": "code",
   "execution_count": null,
   "metadata": {},
   "outputs": [],
   "source": []
  },
  {
   "cell_type": "code",
   "execution_count": 56,
   "metadata": {
    "collapsed": true
   },
   "outputs": [],
   "source": [
    "def Viscosity_Air(T):\n",
    "    \"\"\"\n",
    "    Correlation obtained from Kadoya K, Matsunaga N and Nagashima A - Viscosity and \n",
    "    Thermal Conductivity of Dry Air in the Gaseous Phases\n",
    "    \"\"\"\n",
    "    \n",
    "    Latitude = 11.3218072       # NITC location in degrees\n",
    "    Longitude = 75.9344292\n",
    "    Sea_level = 63              # meters\n",
    "    \n",
    "    Pressure = 101325*np.power((1 - 2.25577e-5*Sea_level), 5.25588)      # Pressure in Pa\n",
    "    \n",
    "    rho = Pressure / (287.058*T)       # density of air in kg m-3\n",
    "    \n",
    "    T_star = 132.5              # K\n",
    "    rho_star = 314.3            # kg/m3\n",
    "    H = 6.1609e-6               # Pa.s\n",
    "    \n",
    "    T_r = T/T_star\n",
    "    rho_r = rho/rho_star\n",
    "    \n",
    "    A = np.array([0.128517, 2.60661, -1.0, -0.709661, 0.662534, -0.197846, 0.00770147 ])\n",
    "    \n",
    "    T_r_mat = np.array([T_r, np.power(T_r, 0.5), np.power(T_r, 0), np.power(T_r, -1), np.power(T_r, -2), np.power(T_r, -3), np.power(T_r, -4)])\n",
    "    \n",
    "    B = np.array([0.465601, 1.26469, -0.511425, 0.2746])\n",
    "    \n",
    "    rho_r_mat = np.array([rho_r, np.power(rho_r, 2), np.power(rho_r, 3), np.power(rho_r, 4)])\n",
    "    \n",
    "    viscosity = H * (np.dot(A, T_r_mat) + np.dot(B, rho_r_mat))\n",
    "    \n",
    "    return viscosity\n",
    "    "
   ]
  },
  {
   "cell_type": "code",
   "execution_count": 57,
   "metadata": {},
   "outputs": [
    {
     "data": {
      "text/plain": [
       "2.0904818415092364e-05"
      ]
     },
     "execution_count": 57,
     "metadata": {},
     "output_type": "execute_result"
    }
   ],
   "source": [
    "Viscosity_Air(350)"
   ]
  },
  {
   "cell_type": "code",
   "execution_count": 58,
   "metadata": {
    "collapsed": true
   },
   "outputs": [],
   "source": [
    "def Thermal_Conductivity_Air_1(T):\n",
    "    \"\"\"\n",
    "    Correlation obtained from Kadoya K, Matsunaga N and Nagashima A - Viscosity and \n",
    "    Thermal Conductivity of Dry Air in the Gaseous Phases\n",
    "    \"\"\"\n",
    "    \n",
    "    Latitude = 11.3218072       # NITC location in degrees\n",
    "    Longitude = 75.9344292\n",
    "    Sea_level = 63              # meters\n",
    "    \n",
    "    Pressure = 101325*np.power((1 - 2.25577e-5*Sea_level), 5.25588)      # Pressure in Pa\n",
    "    \n",
    "\n",
    "    rho = Pressure / (287.058*T)       # density of air in kg m-3\n",
    "\n",
    "    T_star = 132.5              # K\n",
    "    rho_star = 314.3            # kg/m3\n",
    "    H = 25.9778e-3               # W m-1 K-1\n",
    "    \n",
    "    T_r = T/T_star\n",
    "    rho_r = rho/rho_star\n",
    "    \n",
    "    A = np.array([0.239503, 0.00649768, 1, -1.92615, 2.00383, -1.07553, 0.229414 ])\n",
    "    \n",
    "    T_r_mat = np.array([T_r, np.power(T_r, 0.5), np.power(T_r, 0), np.power(T_r, -1), np.power(T_r, -2), np.power(T_r, -3), np.power(T_r, -4)])\n",
    "    \n",
    "    B = np.array([0.402287, 0.356603, -0.163159, 0.138059, -0.021725])\n",
    "    \n",
    "    rho_r_mat = np.array([rho_r, np.power(rho_r, 2), np.power(rho_r, 3), np.power(rho_r, 4), np.power(rho_r, 5)])\n",
    "    \n",
    "    conductivity = H * (np.dot(A, T_r_mat) + np.dot(B, rho_r_mat))\n",
    "    \n",
    "    return conductivity"
   ]
  },
  {
   "cell_type": "code",
   "execution_count": 59,
   "metadata": {},
   "outputs": [
    {
     "data": {
      "text/plain": [
       "0.067630678718804751"
      ]
     },
     "execution_count": 59,
     "metadata": {},
     "output_type": "execute_result"
    }
   ],
   "source": [
    "Thermal_Conductivity_Air_1(1000)"
   ]
  },
  {
   "cell_type": "code",
   "execution_count": 60,
   "metadata": {
    "collapsed": true
   },
   "outputs": [],
   "source": [
    "def Specific_Heat_Capacity_Air(T):\n",
    "    \n",
    "    #c_p = 1.9327e-10*np.power(T, 4) - 7.9999e-7*np.power(T, 3) + 1.1407e-3*np.power(T, 2) - 4.489e-1*T + 1.0575e3\n",
    "    \n",
    "    Tp = [250, 300, 350, 400, 450, 500, 550, 600, 650, 700, 750, 800, 900, 1000, 1100, 1200, 1300, 1400]\n",
    "    cp = [1003, 1005, 1008, 1013, 1020, 1029, 1040, 1051, 1063, 1075, 1087, 1099, 1121, 1142, 1155,1173, 1190, 1204]\n",
    "    return np.interp(T, Tp, cp)"
   ]
  },
  {
   "cell_type": "code",
   "execution_count": 61,
   "metadata": {},
   "outputs": [
    {
     "data": {
      "text/plain": [
       "1006.98"
      ]
     },
     "execution_count": 61,
     "metadata": {},
     "output_type": "execute_result"
    }
   ],
   "source": [
    "Specific_Heat_Capacity_Air(333)"
   ]
  },
  {
   "cell_type": "code",
   "execution_count": 76,
   "metadata": {
    "collapsed": true
   },
   "outputs": [],
   "source": [
    "def Prantl_Air(T):\n",
    "    \n",
    "    Pr_air = Viscosity_Air(T)*Specific_Heat_Capacity_Air(T)/Thermal_Conductivity_Air_1(T)\n",
    "    Tp = [175,\n",
    "200,\n",
    "225,\n",
    "250,\n",
    "275,\n",
    "300,\n",
    "325,\n",
    "350,\n",
    "375,\n",
    "400,\n",
    "450,\n",
    "500,\n",
    "550,\n",
    "600,\n",
    "650,\n",
    "700,\n",
    "750,\n",
    "800,\n",
    "850,\n",
    "900,\n",
    "950,\n",
    "1000\n",
    "]\n",
    "    Pr = [0.744,\n",
    "0.736,\n",
    "0.728,\n",
    "0.72,\n",
    "0.713,\n",
    "0.707,\n",
    "0.701,\n",
    "0.697,\n",
    "0.692,\n",
    "0.688,\n",
    "0.684,\n",
    "0.68,\n",
    "0.68,\n",
    "0.68,\n",
    "0.682,\n",
    "0.684,\n",
    "0.687,\n",
    "0.69,\n",
    "0.693,\n",
    "0.696,\n",
    "0.699,\n",
    "0.702\n",
    "]\n",
    "    return Pr_air, np.interp(T, Tp, Pr)"
   ]
  },
  {
   "cell_type": "code",
   "execution_count": 79,
   "metadata": {},
   "outputs": [
    {
     "data": {
      "text/plain": [
       "(0.71591436189314972, 0.7149599999999999)"
      ]
     },
     "execution_count": 79,
     "metadata": {},
     "output_type": "execute_result"
    }
   ],
   "source": [
    "Prantl_Air(268)"
   ]
  },
  {
   "cell_type": "code",
   "execution_count": 95,
   "metadata": {
    "collapsed": true
   },
   "outputs": [],
   "source": [
    "def Rayleigh_Air(T_g, T_a, dia_glass_ext):\n",
    "    \n",
    "    T = (T_g + T_a)/2\n",
    "    \n",
    "    Pressure = 101325*np.power((1 - 2.25577e-5*63), 5.25588)      # Pressure in Pa\n",
    "    \n",
    "    rho = Pressure / (287.058*T)        # density of air in kg m-3\n",
    "   \n",
    "    g = 9.81                            # accleration due to gravity in m s-2\n",
    "    beta = 1/T\n",
    "    \n",
    "    dynamic_viscosity = Viscosity_Air(T)\n",
    "    kinematic_viscosity = dynamic_viscosity / rho           #   m2 s-1\n",
    "    \n",
    "    thermal_diffusivity = Thermal_Conductivity_Air_1(T) / (rho*Specific_Heat_Capacity_Air(T))\n",
    "    \n",
    "    print (rho, dynamic_viscosity, Specific_Heat_Capacity_Air(T), Thermal_Conductivity_Air_1(T))\n",
    "    \n",
    "    T_s = T_g                   # glass envelope temperature in K\n",
    "    T_inf = T_a                 # ambient environment temperature in K\n",
    "    \n",
    "    x = dia_glass_ext           # in m\n",
    "    \n",
    "    Ra = g*beta*(T_s - T_inf)*np.power(x,3)/(kinematic_viscosity*thermal_diffusivity)\n",
    "    \n",
    "    return Ra "
   ]
  },
  {
   "cell_type": "code",
   "execution_count": 96,
   "metadata": {},
   "outputs": [
    {
     "name": "stdout",
     "output_type": "stream",
     "text": [
      "1.20809968227 1.80815544933e-05 1004.6 0.0254850288641\n"
     ]
    },
    {
     "data": {
      "text/plain": [
       "17221.414181253032"
      ]
     },
     "execution_count": 96,
     "metadata": {},
     "output_type": "execute_result"
    }
   ],
   "source": [
    "Rayleigh_Air(300, 280, 0.020)"
   ]
  },
  {
   "cell_type": "code",
   "execution_count": null,
   "metadata": {
    "collapsed": true
   },
   "outputs": [],
   "source": []
  }
 ],
 "metadata": {
  "kernelspec": {
   "display_name": "Python 3",
   "language": "python",
   "name": "python3"
  },
  "language_info": {
   "codemirror_mode": {
    "name": "ipython",
    "version": 3
   },
   "file_extension": ".py",
   "mimetype": "text/x-python",
   "name": "python",
   "nbconvert_exporter": "python",
   "pygments_lexer": "ipython3",
   "version": "3.6.1"
  }
 },
 "nbformat": 4,
 "nbformat_minor": 2
}
