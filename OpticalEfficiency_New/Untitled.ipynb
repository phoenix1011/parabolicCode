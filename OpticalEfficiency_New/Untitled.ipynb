{
 "cells": [
  {
   "cell_type": "code",
   "execution_count": 135,
   "metadata": {
    "collapsed": true
   },
   "outputs": [],
   "source": [
    "import scipy.integrate\n",
    "import numpy as np\n",
    "import scipy.special as sp\n",
    "\n",
    "from matplotlib import pyplot\n",
    "from matplotlib.transforms import blended_transform_factory\n",
    "%matplotlib inline"
   ]
  },
  {
   "cell_type": "code",
   "execution_count": 116,
   "metadata": {
    "collapsed": true
   },
   "outputs": [],
   "source": [
    "def Integrand(phi_r, phi, dSTAR, betaSTAR, sigmaSTAR):\n",
    "    \"\"\"\n",
    "    computes the integrand\n",
    "    \"\"\"\n",
    "    \n",
    "    F1 = np.sin(phi_r)*(1 + np.cos(phi))*(1 - 2*dSTAR*np.sin(phi)) - np.pi*betaSTAR*(1 + np.cos(phi_r))\n",
    "    F2 = -(np.sin(phi_r)*(1 + np.cos(phi))*(1 + 2*dSTAR*np.sin(phi)) + np.pi*betaSTAR*(1 + np.cos(phi_r)))\n",
    "    F3 = np.sqrt(2)*np.pi*sigmaSTAR*(1 + np.cos(phi_r))\n",
    "    \n",
    "    Error = sp.erf(F1/F3) - sp.erf(F2/F3)\n",
    "    \n",
    "    Integrand = ((1+np.cos(phi_r))/(2*np.sin(phi_r))) * Error / (1 + np.cos(phi))\n",
    "    \n",
    "    return Integrand  "
   ]
  },
  {
   "cell_type": "code",
   "execution_count": 117,
   "metadata": {
    "collapsed": true
   },
   "outputs": [],
   "source": [
    "def Simpsons(lower, upper, phi_r, dSTAR, betaSTAR, sigmaSTAR):\n",
    "    \"\"\"\n",
    "    computer the integrand\n",
    "    \"\"\"\n",
    "    \n",
    "    n = 20\n",
    "    h = (upper - lower) / n\n",
    "    \n",
    "    s = Integrand(phi_r, lower, dSTAR, betaSTAR, sigmaSTAR) + Integrand(phi_r, upper, dSTAR, betaSTAR, sigmaSTAR)\n",
    "\n",
    "    for i in range(1, n, 2):\n",
    "        s += 4 * Integrand(phi_r, (lower + i*h), dSTAR, betaSTAR, sigmaSTAR)\n",
    "    for i in range(2, n-1, 2):\n",
    "        s += 2 * Integrand(phi_r, (lower + i*h), dSTAR, betaSTAR, sigmaSTAR)\n",
    "\n",
    "    return s * h / 3"
   ]
  },
  {
   "cell_type": "code",
   "execution_count": 118,
   "metadata": {
    "collapsed": true
   },
   "outputs": [],
   "source": [
    "def InputsInterceptKalogirou(C, D):\n",
    "    \n",
    "    phi_r = np.deg2rad(90)\n",
    "    beta = np.deg2rad(0.2)\n",
    "    sigma = 0.00861\n",
    "    dr_y = 0     # in mm\n",
    "    \n",
    "    sigmaSTAR = sigma*C\n",
    "    betaSTAR = beta*C\n",
    "    dSTAR = dr_y/D\n",
    "    \n",
    "    Integral = Simpsons(0, phi_r, phi_r, dSTAR, betaSTAR, sigmaSTAR)\n",
    "    return Integral"
   ]
  },
  {
   "cell_type": "code",
   "execution_count": 119,
   "metadata": {
    "collapsed": true
   },
   "outputs": [],
   "source": [
    "def OpticalEfficiency(rho_m, tau_g, alpha_r, gamma):\n",
    "    return rho_m*tau_g*alpha_r*gamma"
   ]
  },
  {
   "cell_type": "code",
   "execution_count": 120,
   "metadata": {
    "collapsed": true
   },
   "outputs": [],
   "source": [
    "def ThermalEfficiency(OpticalEfficiency, U_l, T_r, T_a, I, C):\n",
    "    return OpticalEfficiency - (U_l * (T_r - T_a) / (I * C))"
   ]
  },
  {
   "cell_type": "code",
   "execution_count": 121,
   "metadata": {},
   "outputs": [],
   "source": [
    "C = [42.44, 28.29, 21.22, 16.98, 14.15, 12.13]\n",
    "D = [6, 9, 12, 15, 18, 21]\n",
    "Intercept = []\n",
    "Intercept1 = []\n",
    "W = []"
   ]
  },
  {
   "cell_type": "code",
   "execution_count": 122,
   "metadata": {},
   "outputs": [],
   "source": [
    "for i in range(0,6):\n",
    "    Intercept.append(InputsInterceptKalogirou(C[i], D[i]))"
   ]
  },
  {
   "cell_type": "code",
   "execution_count": 123,
   "metadata": {},
   "outputs": [
    {
     "name": "stdout",
     "output_type": "stream",
     "text": [
      "[0.77900946476896837, 0.92328495975543212, 0.97597813847503634, 0.9930745499025484, 0.99820508952022247, 0.99959035417951492]\n"
     ]
    }
   ],
   "source": [
    "print (Intercept)"
   ]
  },
  {
   "cell_type": "code",
   "execution_count": 124,
   "metadata": {
    "collapsed": true
   },
   "outputs": [],
   "source": [
    "for i in range(0, 6):\n",
    "    W.append(C[i] * np.pi * D[i])"
   ]
  },
  {
   "cell_type": "code",
   "execution_count": 125,
   "metadata": {},
   "outputs": [
    {
     "name": "stdout",
     "output_type": "stream",
     "text": [
      "[799.9751533101048, 799.8809055304972, 799.9751533101048, 800.1636488693204, 800.1636488693204, 800.257896648928]\n"
     ]
    }
   ],
   "source": [
    "print(W)"
   ]
  },
  {
   "cell_type": "code",
   "execution_count": 126,
   "metadata": {},
   "outputs": [],
   "source": [
    "W = 1089.1\n",
    "D = [6, 9, 12, 15, 18, 21, 24, 27]\n",
    "\n",
    "C = []\n",
    "for i in range(0,8):\n",
    "    C.append(W/(np.pi * D[i]))"
   ]
  },
  {
   "cell_type": "code",
   "execution_count": 127,
   "metadata": {},
   "outputs": [
    {
     "name": "stdout",
     "output_type": "stream",
     "text": [
      "[57.778549507127735, 38.519033004751826, 28.889274753563868, 23.111419802851096, 19.259516502375913, 16.508157002036494, 14.444637376781934, 12.839677668250609]\n"
     ]
    }
   ],
   "source": [
    "print (C)\n",
    "\n"
   ]
  },
  {
   "cell_type": "code",
   "execution_count": 128,
   "metadata": {
    "collapsed": true
   },
   "outputs": [],
   "source": [
    "for i in range(0,8):\n",
    "    Intercept1.append(InputsInterceptKalogirou(C[i], D[i]))"
   ]
  },
  {
   "cell_type": "code",
   "execution_count": 129,
   "metadata": {},
   "outputs": [
    {
     "name": "stdout",
     "output_type": "stream",
     "text": [
      "[0.63791457449327083, 0.81972007577308148, 0.91776862194700071, 0.96455244288739517, 0.98537259789778309, 0.99424935880970677, 0.99786873921191888, 0.99926216747787644]\n"
     ]
    }
   ],
   "source": [
    "print (Intercept1)"
   ]
  },
  {
   "cell_type": "code",
   "execution_count": 130,
   "metadata": {
    "collapsed": true
   },
   "outputs": [],
   "source": [
    "rho_m = 0.85\n",
    "tau_g = 0.9\n",
    "alpha_r = 0.9\n",
    "\n",
    "I = 500\n",
    "U_l = 7\n",
    "T_r = 250+273\n",
    "T_a = 32+273\n",
    "\n",
    "O = []\n",
    "T = []"
   ]
  },
  {
   "cell_type": "code",
   "execution_count": 131,
   "metadata": {},
   "outputs": [],
   "source": [
    "for i in range(0, 8):\n",
    "    O.append(OpticalEfficiency(rho_m, tau_g, alpha_r, Intercept1[i]))"
   ]
  },
  {
   "cell_type": "code",
   "execution_count": 132,
   "metadata": {},
   "outputs": [
    {
     "name": "stdout",
     "output_type": "stream",
     "text": [
      "[0.43920418453861698, 0.56437727216976663, 0.63188369621050999, 0.66409435692797159, 0.67842903365262364, 0.68454068354048314, 0.68703262694740619, 0.68799200230851798]\n"
     ]
    }
   ],
   "source": [
    "print (O)"
   ]
  },
  {
   "cell_type": "code",
   "execution_count": 133,
   "metadata": {},
   "outputs": [],
   "source": [
    "for i in range(0, 8):\n",
    "    T.append(ThermalEfficiency(O[i], U_l, T_r, T_a, I, C[i]))"
   ]
  },
  {
   "cell_type": "code",
   "execution_count": 134,
   "metadata": {},
   "outputs": [
    {
     "name": "stdout",
     "output_type": "stream",
     "text": [
      "[0.38638181315624964, 0.48514371509621557, 0.5262389534457752, 0.53203842847205318, 0.51996191950552162, 0.49966238370219734, 0.47574314141793672, 0.45029133108786484]\n"
     ]
    }
   ],
   "source": [
    "print (T)"
   ]
  },
  {
   "cell_type": "code",
   "execution_count": 136,
   "metadata": {},
   "outputs": [
    {
     "data": {
      "image/png": "[encoded data removed]",
      "text/plain": [
       "<matplotlib.figure.Figure at 0x7f3a31cc5438>"
      ]
     },
     "metadata": {},
     "output_type": "display_data"
    }
   ],
   "source": [
    "pyplot.figure(figsize=(12,10))\n",
    "# pyplot.xlim(180, 1110)\n",
    "# pyplot.ylim(0, 100)\n",
    "\n",
    "pyplot.tick_params(axis='both', labelsize=16)\n",
    "pyplot.xlabel('Receiver diameter  $(mm)$', fontsize=16)\n",
    "pyplot.ylabel('Efficiency   $(\\%)$', fontsize=16)\n",
    "\n",
    "pyplot.plot(D, O, linewidth=1.3, color = 'black', linestyle=(0, (7, 14)), marker='o', label=\"Optical Efficiency\")\n",
    "pyplot.plot(D, T, linewidth=1.3, color = 'black', linestyle=(0, (1, 5)), marker='s', label=\"Thermal Efficiency\")\n",
    "# pyplot.plot(x, Y3, linewidth=1.3, color = 'black', linestyle=(0, (7, 20, 2, 20, 2, 20)), marker='^',markevery=120, label=\"0.0006   vol.%\")\n",
    "# pyplot.plot(x, Y4, linewidth=1.3, color = 'black', linestyle=(0, (2, 15)), marker='x',markevery=120, label=\"0.001     vol.%\")\n",
    "# pyplot.plot(x, Y5, linewidth=1.3, color = 'black', linestyle=(0, (8, 5, 1, 5, 1, 5)), marker='v',markevery=120, label=\"0.0054   vol.%\")\n",
    "# pyplot.plot(x, Y6, linewidth=1.3, color = 'black', linestyle=(0, (5, 25)), marker='^',markevery=120, label=\"0.0254   vol.%\")\n",
    "\n",
    "pyplot.legend(loc=4, prop={'size': 16}, frameon=False)\n",
    "\n",
    "# pyplot.title('Al2O3 - Water: Transmittance', fontsize=16)\n",
    "pyplot.tight_layout()\n",
    "\n",
    "pyplot.savefig('Plot.png')"
   ]
  },
  {
   "cell_type": "code",
   "execution_count": null,
   "metadata": {
    "collapsed": true
   },
   "outputs": [],
   "source": []
  }
 ],
 "metadata": {
  "kernelspec": {
   "display_name": "Python 3",
   "language": "python",
   "name": "python3"
  },
  "language_info": {
   "codemirror_mode": {
    "name": "ipython",
    "version": 3
   },
   "file_extension": ".py",
   "mimetype": "text/x-python",
   "name": "python",
   "nbconvert_exporter": "python",
   "pygments_lexer": "ipython3",
   "version": "3.6.3"
  }
 },
 "nbformat": 4,
 "nbformat_minor": 2
}
