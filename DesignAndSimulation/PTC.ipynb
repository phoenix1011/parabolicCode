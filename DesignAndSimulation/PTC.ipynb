{
 "cells": [
  {
   "cell_type": "code",
   "execution_count": 2,
   "metadata": {
    "collapsed": true
   },
   "outputs": [],
   "source": [
    "from scipy import special as sp\n",
    "import numpy as np"
   ]
  },
  {
   "cell_type": "code",
   "execution_count": 3,
   "metadata": {
    "collapsed": true
   },
   "outputs": [],
   "source": [
    "def Integrand(phi_r, phi, dSTAR, betaSTAR, sigmaSTAR):\n",
    "    \"\"\"\n",
    "    computes the integrand\n",
    "    \"\"\"\n",
    "    \n",
    "    F1 = np.sin(phi_r)*(1 + np.cos(phi))*(1 - 2*dSTAR*np.sin(phi)) - np.pi*betaSTAR*(1 + np.cos(phi_r))\n",
    "    F2 = -(np.sin(phi_r)*(1 + np.cos(phi))*(1 + 2*dSTAR*np.sin(phi)) + np.pi*betaSTAR*(1 + np.cos(phi_r)))\n",
    "    F3 = np.sqrt(2)*np.pi*sigmaSTAR*(1 + np.cos(phi_r))\n",
    "    \n",
    "    Error = sp.erf(F1/F3) - sp.erf(F2/F3)\n",
    "    \n",
    "    Integrand = ((1+np.cos(phi_r))/(2*np.sin(phi_r))) * Error / (1 + np.cos(phi))\n",
    "    \n",
    "    return Integrand  "
   ]
  },
  {
   "cell_type": "code",
   "execution_count": 29,
   "metadata": {
    "collapsed": true
   },
   "outputs": [],
   "source": [
    "def Simpsons(lower, upper, phi_r, dSTAR, betaSTAR, sigmaSTAR):\n",
    "    \"\"\"\n",
    "    computer the integrand\n",
    "    \"\"\"\n",
    "    \n",
    "    n = 20\n",
    "    h = (upper - lower) / n\n",
    "    \n",
    "    s = Integrand(phi_r, lower, dSTAR, betaSTAR, sigmaSTAR) + Integrand(phi_r, upper, dSTAR, betaSTAR, sigmaSTAR)\n",
    "\n",
    "    for i in range(1, n, 2):\n",
    "        s += 4 * Integrand(phi_r, (lower + i*h), dSTAR, betaSTAR, sigmaSTAR)\n",
    "    for i in range(2, n-1, 2):\n",
    "        s += 2 * Integrand(phi_r, (lower + i*h), dSTAR, betaSTAR, sigmaSTAR)\n",
    "\n",
    "    return s * h / 3"
   ]
  },
  {
   "cell_type": "code",
   "execution_count": null,
   "metadata": {
    "collapsed": true
   },
   "outputs": [],
   "source": []
  },
  {
   "cell_type": "markdown",
   "metadata": {},
   "source": [
    "Guven's paper, Fig 5"
   ]
  },
  {
   "cell_type": "code",
   "execution_count": 30,
   "metadata": {
    "collapsed": true
   },
   "outputs": [],
   "source": [
    "def InputsInterceptGuven():\n",
    "    C = 20\n",
    "    D = 2.54     # in cm\n",
    "    phi_r = np.deg2rad(90)\n",
    "    beta = np.deg2rad(1)\n",
    "    sigma = 0.01\n",
    "    dr_y = 1.2     # in cm\n",
    "    \n",
    "    sigmaSTAR = sigma*C\n",
    "    betaSTAR = beta*C\n",
    "    dSTAR = dr_y/D\n",
    "    \n",
    "    Integral = Simpsons(0, phi_r, phi_r, dSTAR, betaSTAR, sigmaSTAR)\n",
    "    return Integral"
   ]
  },
  {
   "cell_type": "markdown",
   "metadata": {},
   "source": [
    "Arasu's paper"
   ]
  },
  {
   "cell_type": "code",
   "execution_count": 31,
   "metadata": {
    "collapsed": true
   },
   "outputs": [],
   "source": [
    "def InputsInterceptArasu():\n",
    "    phi_r = np.deg2rad(90)\n",
    "    \n",
    "    sigmaSun = 0.0025\n",
    "    sigmaSlope = 0.004\n",
    "    sigmaMirror = 0.002\n",
    "    \n",
    "    sigma = np.sqrt(np.square(sigmaSun) + 4*np.square(sigmaSlope) + np.square(sigmaMirror))\n",
    "    \n",
    "    beta = np.deg2rad(0.18)\n",
    "    dr_y = 0.002                # misalignment in y dir\n",
    "    \n",
    "    D = 0.0128                 # receiver outer dia in m\n",
    "    W_a = 0.8                  # aperture width\n",
    "    \n",
    "    C = W_a / (np.pi*D)\n",
    "    \n",
    "    sigmaSTAR = sigma*C\n",
    "    betaSTAR = beta*C\n",
    "    dSTAR = dr_y/D\n",
    "    \n",
    "    Integral = Simpsons(0, phi_r, phi_r, dSTAR, betaSTAR, sigmaSTAR)\n",
    "    return Integral   "
   ]
  },
  {
   "cell_type": "code",
   "execution_count": 32,
   "metadata": {},
   "outputs": [
    {
     "data": {
      "text/plain": [
       "0.2823760315904234"
      ]
     },
     "execution_count": 32,
     "metadata": {},
     "output_type": "execute_result"
    }
   ],
   "source": [
    "InputsInterceptGuven()"
   ]
  },
  {
   "cell_type": "code",
   "execution_count": 33,
   "metadata": {},
   "outputs": [
    {
     "data": {
      "text/plain": [
       "0.94563449168927471"
      ]
     },
     "execution_count": 33,
     "metadata": {},
     "output_type": "execute_result"
    }
   ],
   "source": [
    "InputsInterceptArasu()"
   ]
  },
  {
   "cell_type": "code",
   "execution_count": 34,
   "metadata": {},
   "outputs": [
    {
     "data": {
      "text/plain": [
       "0.8796613177174435"
      ]
     },
     "execution_count": 34,
     "metadata": {},
     "output_type": "execute_result"
    }
   ],
   "source": [
    "0.694/(0.974*0.9*0.9)"
   ]
  },
  {
   "cell_type": "code",
   "execution_count": null,
   "metadata": {
    "collapsed": true
   },
   "outputs": [],
   "source": []
  },
  {
   "cell_type": "code",
   "execution_count": null,
   "metadata": {
    "collapsed": true
   },
   "outputs": [],
   "source": []
  },
  {
   "cell_type": "code",
   "execution_count": null,
   "metadata": {
    "collapsed": true
   },
   "outputs": [],
   "source": []
  },
  {
   "cell_type": "code",
   "execution_count": null,
   "metadata": {
    "collapsed": true
   },
   "outputs": [],
   "source": []
  }
 ],
 "metadata": {
  "kernelspec": {
   "display_name": "Python 3",
   "language": "python",
   "name": "python3"
  },
  "language_info": {
   "codemirror_mode": {
    "name": "ipython",
    "version": 3
   },
   "file_extension": ".py",
   "mimetype": "text/x-python",
   "name": "python",
   "nbconvert_exporter": "python",
   "pygments_lexer": "ipython3",
   "version": "3.6.3"
  }
 },
 "nbformat": 4,
 "nbformat_minor": 2
}
