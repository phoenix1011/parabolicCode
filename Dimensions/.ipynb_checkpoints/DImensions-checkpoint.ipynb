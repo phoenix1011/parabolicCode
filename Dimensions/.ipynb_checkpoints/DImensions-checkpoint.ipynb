{
 "cells": [
  {
   "cell_type": "code",
   "execution_count": 3,
   "metadata": {
    "collapsed": true
   },
   "outputs": [],
   "source": [
    "import numpy as np\n",
    "import scipy"
   ]
  },
  {
   "cell_type": "code",
   "execution_count": 4,
   "metadata": {},
   "outputs": [],
   "source": [
    "L = 100\n",
    "S = 125\n",
    "\n",
    "Rim_angle = np.deg2rad(90)\n"
   ]
  },
  {
   "cell_type": "code",
   "execution_count": 9,
   "metadata": {},
   "outputs": [
    {
     "name": "stdout",
     "output_type": "stream",
     "text": [
      "Focal length:\t 27.226\n",
      "Aperture width:\t 108.905\n"
     ]
    }
   ],
   "source": [
    "F = S / (2 * ((1/np.cos(Rim_angle/2) * np.tan(Rim_angle/2)) + np.log(1/np.cos(Rim_angle/2) + np.tan(Rim_angle/2))))\n",
    "W_a = 4 * F * np.tan(Rim_angle/2)\n",
    "\n",
    "\n",
    "print (\"Focal length:\\t %5.3f\" %F)\n",
    "print (\"Aperture width:\\t %5.3f\" %W_a)"
   ]
  },
  {
   "cell_type": "code",
   "execution_count": 49,
   "metadata": {},
   "outputs": [],
   "source": [
    "Tot_len = 108.905 + 6 + 6\n",
    "t = 1.9\n",
    "\n",
    "num = 5\n",
    "\n",
    "sp = (Tot_len - 6 -6) - (num*t)"
   ]
  },
  {
   "cell_type": "code",
   "execution_count": 50,
   "metadata": {},
   "outputs": [
    {
     "name": "stdout",
     "output_type": "stream",
     "text": [
      "120.905\n",
      "99.405\n"
     ]
    }
   ],
   "source": [
    "print(Tot_len)\n",
    "print(sp)"
   ]
  },
  {
   "cell_type": "code",
   "execution_count": 56,
   "metadata": {},
   "outputs": [
    {
     "name": "stdout",
     "output_type": "stream",
     "text": [
      "24.85125\n"
     ]
    }
   ],
   "source": [
    "print(sp/(num-1))"
   ]
  },
  {
   "cell_type": "code",
   "execution_count": 58,
   "metadata": {},
   "outputs": [
    {
     "data": {
      "text/plain": [
       "120.905"
      ]
     },
     "execution_count": 58,
     "metadata": {},
     "output_type": "execute_result"
    }
   ],
   "source": [
    "6+6+1.9*num+24.85125*(num-1)"
   ]
  },
  {
   "cell_type": "code",
   "execution_count": null,
   "metadata": {
    "collapsed": true
   },
   "outputs": [],
   "source": []
  }
 ],
 "metadata": {
  "kernelspec": {
   "display_name": "Python 3",
   "language": "python",
   "name": "python3"
  },
  "language_info": {
   "codemirror_mode": {
    "name": "ipython",
    "version": 3
   },
   "file_extension": ".py",
   "mimetype": "text/x-python",
   "name": "python",
   "nbconvert_exporter": "python",
   "pygments_lexer": "ipython3",
   "version": "3.6.1"
  }
 },
 "nbformat": 4,
 "nbformat_minor": 2
}
