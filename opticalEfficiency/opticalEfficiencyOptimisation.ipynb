{
 "cells": [
  {
   "cell_type": "code",
   "execution_count": 243,
   "metadata": {
    "collapsed": true
   },
   "outputs": [],
   "source": [
    "from scipy import special, integrate\n",
    "import numpy as np"
   ]
  },
  {
   "cell_type": "markdown",
   "metadata": {},
   "source": [
    "input - **Material Properties**"
   ]
  },
  {
   "cell_type": "code",
   "execution_count": 244,
   "metadata": {
    "collapsed": true
   },
   "outputs": [],
   "source": [
    "rho_m = 0.85                     # Reflectivity of the mirror\n",
    "tau_e = 0.9                      # Transmitivity of the envelope\n",
    "alpha_r = 0.9                    # Absorptivity of the receiver\n"
   ]
  },
  {
   "cell_type": "markdown",
   "metadata": {},
   "source": [
    "input - **Dimensions**"
   ]
  },
  {
   "cell_type": "code",
   "execution_count": 245,
   "metadata": {
    "collapsed": true
   },
   "outputs": [],
   "source": [
    "W_a = 0.5                      # width of the aperture in m\n",
    "\n",
    "L = 1.25                          # length of the aperture in m\n",
    "f = 0.2\n",
    "\n",
    "D_ro = 0.0128                    # outer diameter of the receiver tube in m\n",
    "\n",
    "\n",
    "sigma_sun = 0.0025\n",
    "sigma_slope = 0.004\n",
    "sigma_mirror = 0.002\n",
    "\n",
    "beta = 0.18*np.pi / 180          # misalignment angle in rad\n",
    "dr = 0.002                     # vertical disp of receiver in m\n",
    "phi_r = np.pi / 4              # rim angle in rad\n",
    "\n",
    "theta = 0                         # incident angle in rad"
   ]
  },
  {
   "cell_type": "markdown",
   "metadata": {},
   "source": [
    "Calculation - **Intercept factor**"
   ]
  },
  {
   "cell_type": "code",
   "execution_count": 246,
   "metadata": {},
   "outputs": [],
   "source": [
    "def InterceptFactorInputs( W_a, D_ro, sigma_sun, sigma_slope, sigma_mirror, beta, dr, phi_r):\n",
    "    \"Determines the input for findInterceptFactor and call it\"\n",
    "    \n",
    "    C = W_a / (np.pi* D_ro)\n",
    "    sigma = np.sqrt(np.power(sigma_sun, 2) + 4*np.power(sigma_slope, 2) + np.power(sigma_mirror, 2))\n",
    "    \n",
    "    print (sigma, C)\n",
    "    \n",
    "    sigmaSTAR = sigma * C\n",
    "    betaSTAR = beta * C\n",
    "    dSTAR = dr / D_ro\n",
    "    \n",
    "    print (C)\n",
    "    return InterceptFactor( sigmaSTAR, betaSTAR, dSTAR, phi_r)"
   ]
  },
  {
   "cell_type": "code",
   "execution_count": 247,
   "metadata": {},
   "outputs": [],
   "source": [
    "def InterceptFactor( sigmaSTAR, betaSTAR, dSTAR, phi_r ):\n",
    "    \"Computes the intercept factor from the given parameters\"\n",
    "    \n",
    "    EF = lambda phi: ((scipy.special.erf(( np.sin(phi_r)*(1 + np.cos(phi))*(1 - 2*dSTAR*np.sin(phi)) - (np.pi*betaSTAR*(1 + np.cos(phi_r)))) / (np.sqrt(2)*np.pi*sigmaSTAR*(1 + np.cos(phi_r)))) - scipy.special.erf(-( np.sin(phi_r)*(1 + np.cos(phi))*(1 + 2*dSTAR*np.sin(phi)) + (np.pi*betaSTAR*(1 + np.cos(phi_r)))) / (np.sqrt(2)*np.pi*sigmaSTAR*(1 + np.cos(phi_r))))) / (1 + np.cos(phi)))\n",
    "    \n",
    "    integrated_result = scipy.integrate.quad(EF, 0, phi_r)\n",
    "    IF = ((1 + np.cos(phi_r)) / (2*np.sin(phi_r))) * integrated_result[0]\n",
    "    \n",
    "    return IF"
   ]
  },
  {
   "cell_type": "markdown",
   "metadata": {},
   "source": [
    "Calculation - **Geometric factor**"
   ]
  },
  {
   "cell_type": "code",
   "execution_count": 248,
   "metadata": {
    "collapsed": true
   },
   "outputs": [],
   "source": [
    "def GeometricFactor( W_a, f, L):\n",
    "    \"Determines the Geometric Factor\"\n",
    "    \n",
    "    h_p = f\n",
    "    \n",
    "    GF = (2/3 * W_a * h_p + f * W_a * (1 + np.power(W_a, 2) / (48*np.power(f, 2)))) / (W_a*L)\n",
    "    \n",
    "    return GF"
   ]
  },
  {
   "cell_type": "markdown",
   "metadata": {},
   "source": [
    "Calculation - **Optical Efficiency**"
   ]
  },
  {
   "cell_type": "code",
   "execution_count": 249,
   "metadata": {
    "collapsed": true
   },
   "outputs": [],
   "source": [
    "def OpticalEfficiency( rho_m, tau_e, alpha_r, gamma, theta, A_f):\n",
    "    \"Determines the Optical Efficiency\"\n",
    "    \n",
    "    eta_o = rho_m * tau_e * alpha_r * gamma * (1 - A_f*np.tan(theta)) * np.cos(theta)\n",
    "    \n",
    "    return eta_o"
   ]
  },
  {
   "cell_type": "code",
   "execution_count": 250,
   "metadata": {},
   "outputs": [
    {
     "name": "stdout",
     "output_type": "stream",
     "text": [
      "0.00861684396981 12.433979929054324\n",
      "12.433979929054324\n"
     ]
    }
   ],
   "source": [
    "gamma = InterceptFactorInputs( W_a, D_ro, sigma_sun, sigma_slope, sigma_mirror, beta, dr, phi_r)\n",
    "\n",
    "A_f = GeometricFactor( W_a, f, L)\n",
    "\n",
    "eta_o = OpticalEfficiency( rho_m, tau_e, alpha_r, gamma, theta, A_f)"
   ]
  },
  {
   "cell_type": "code",
   "execution_count": 251,
   "metadata": {},
   "outputs": [
    {
     "name": "stdout",
     "output_type": "stream",
     "text": [
      "0.948827202022 0.2875 0.653267528592\n"
     ]
    }
   ],
   "source": [
    "print (gamma, A_f, eta_o)"
   ]
  },
  {
   "cell_type": "code",
   "execution_count": null,
   "metadata": {
    "collapsed": true
   },
   "outputs": [],
   "source": []
  },
  {
   "cell_type": "code",
   "execution_count": null,
   "metadata": {
    "collapsed": true
   },
   "outputs": [],
   "source": []
  },
  {
   "cell_type": "code",
   "execution_count": null,
   "metadata": {
    "collapsed": true
   },
   "outputs": [],
   "source": []
  },
  {
   "cell_type": "code",
   "execution_count": null,
   "metadata": {
    "collapsed": true
   },
   "outputs": [],
   "source": []
  },
  {
   "cell_type": "code",
   "execution_count": null,
   "metadata": {
    "collapsed": true
   },
   "outputs": [],
   "source": []
  },
  {
   "cell_type": "code",
   "execution_count": null,
   "metadata": {
    "collapsed": true
   },
   "outputs": [],
   "source": []
  }
 ],
 "metadata": {
  "kernelspec": {
   "display_name": "Python 3",
   "language": "python",
   "name": "python3"
  },
  "language_info": {
   "codemirror_mode": {
    "name": "ipython",
    "version": 3
   },
   "file_extension": ".py",
   "mimetype": "text/x-python",
   "name": "python",
   "nbconvert_exporter": "python",
   "pygments_lexer": "ipython3",
   "version": "3.6.1"
  }
 },
 "nbformat": 4,
 "nbformat_minor": 2
}
