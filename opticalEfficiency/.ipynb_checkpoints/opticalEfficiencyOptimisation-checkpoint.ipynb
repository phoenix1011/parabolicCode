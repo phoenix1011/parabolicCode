{
 "cells": [
  {
   "cell_type": "code",
   "execution_count": 105,
   "metadata": {
    "collapsed": true
   },
   "outputs": [],
   "source": [
    "import scipy\n",
    "import numpy as np"
   ]
  },
  {
   "cell_type": "markdown",
   "metadata": {},
   "source": [
    "input - **Material Properties**"
   ]
  },
  {
   "cell_type": "code",
   "execution_count": 106,
   "metadata": {
    "collapsed": true
   },
   "outputs": [],
   "source": [
    "rho_m = 0.85                     # Reflectivity of the mirror\n",
    "tau_e = 0.9                      # Transmitivity of the envelope\n",
    "alpha_r = 0.9                    # Absorptivity of the receiver\n"
   ]
  },
  {
   "cell_type": "markdown",
   "metadata": {},
   "source": [
    "input - **Dimensions**"
   ]
  },
  {
   "cell_type": "code",
   "execution_count": 107,
   "metadata": {
    "collapsed": true
   },
   "outputs": [],
   "source": [
    "W_a = 0.5                      # width of the aperture in m\n",
    "\n",
    "L = 1.25                          # length of the aperture in m\n",
    "f = 0.2\n",
    "\n",
    "D_ro = 0.0128                    # outer diameter of the receiver tube in m\n",
    "\n",
    "\n",
    "sigma_sun = 0.0025\n",
    "sigma_slope = 0.004\n",
    "sigma_mirror = 0.002\n",
    "\n",
    "beta = 0.18*np.pi / 180          # misalignment angle in rad\n",
    "dr = 0.002                     # vertical disp of receiver in m\n",
    "phi_r = np.pi / 4              # rim angle in rad\n",
    "\n",
    "theta = 0                         # incident angle in rad"
   ]
  },
  {
   "cell_type": "markdown",
   "metadata": {},
   "source": [
    "Calculation - **Intercept factor**"
   ]
  },
  {
   "cell_type": "code",
   "execution_count": 108,
   "metadata": {
    "collapsed": true
   },
   "outputs": [],
   "source": [
    "def InterceptFactorInputs( W_a, D_ro, sigma_sun, sigma_slope, sigma_mirror, beta, dr, phi_r):\n",
    "    \"Determines the input for findInterceptFactor and call it\"\n",
    "    \n",
    "    C = W_a / (np.pi* D_ro)\n",
    "    sigma = np.sqrt(np.power(sigma_sun, 2) + 4*np.power(sigma_slope, 2) + np.power(sigma_mirror, 2))\n",
    "    \n",
    "#     print (sigma, C)\n",
    "    \n",
    "    sigmaSTAR = sigma * C\n",
    "    betaSTAR = beta * C\n",
    "    dSTAR = dr / D_ro\n",
    "    \n",
    "#     print (C)\n",
    "    return InterceptFactor( sigmaSTAR, betaSTAR, dSTAR, phi_r)"
   ]
  },
  {
   "cell_type": "code",
   "execution_count": 109,
   "metadata": {
    "collapsed": true
   },
   "outputs": [],
   "source": [
    "def InterceptFactor( sigmaSTAR, betaSTAR, dSTAR, phi_r ):\n",
    "    \"Computes the intercept factor from the given parameters\"\n",
    "    \n",
    "    EF = lambda phi: float(((scipy.special.erf(( np.sin(phi_r)*(1 + np.cos(phi))*(1 - 2*dSTAR*np.sin(phi)) - (np.pi*betaSTAR*(1 + np.cos(phi_r)))) / (np.sqrt(2)*np.pi*sigmaSTAR*(1 + np.cos(phi_r)))) - scipy.special.erf(-( np.sin(phi_r)*(1 + np.cos(phi))*(1 + 2*dSTAR*np.sin(phi)) + (np.pi*betaSTAR*(1 + np.cos(phi_r)))) / (np.sqrt(2)*np.pi*sigmaSTAR*(1 + np.cos(phi_r))))) / (1 + np.cos(phi))))\n",
    "    \n",
    "    integrated_result = scipy.integrate.quad(EF, 0, phi_r)\n",
    "    IF = ((1 + np.cos(phi_r)) / (2*np.sin(phi_r))) * integrated_result[0]\n",
    "    \n",
    "    return IF"
   ]
  },
  {
   "cell_type": "markdown",
   "metadata": {},
   "source": [
    "Calculation - **Geometric factor**"
   ]
  },
  {
   "cell_type": "code",
   "execution_count": 110,
   "metadata": {
    "collapsed": true
   },
   "outputs": [],
   "source": [
    "def GeometricFactor( W_a, f, L):\n",
    "    \"Determines the Geometric Factor\"\n",
    "    \n",
    "    h_p = f\n",
    "    \n",
    "    GF = (2/3 * W_a * h_p + f * W_a * (1 + np.power(W_a, 2) / (48*np.power(f, 2)))) / (W_a*L)\n",
    "    \n",
    "    return GF"
   ]
  },
  {
   "cell_type": "markdown",
   "metadata": {},
   "source": [
    "Calculation - **Optical Efficiency**"
   ]
  },
  {
   "cell_type": "code",
   "execution_count": 111,
   "metadata": {
    "collapsed": true
   },
   "outputs": [],
   "source": [
    "def OpticalEfficiency( rho_m, tau_e, alpha_r, gamma, theta, A_f):\n",
    "    \"Determines the Optical Efficiency\"\n",
    "    \n",
    "    eta_o = rho_m * tau_e * alpha_r * gamma * (1 - A_f*np.tan(theta)) * np.cos(theta)\n",
    "    \n",
    "    return eta_o"
   ]
  },
  {
   "cell_type": "code",
   "execution_count": 112,
   "metadata": {},
   "outputs": [],
   "source": [
    "gamma = InterceptFactorInputs( W_a, D_ro, sigma_sun, sigma_slope, sigma_mirror, beta, dr, phi_r)\n",
    "\n",
    "A_f = GeometricFactor( W_a, f, L)\n",
    "\n",
    "eta_o = OpticalEfficiency( rho_m, tau_e, alpha_r, gamma, theta, A_f)"
   ]
  },
  {
   "cell_type": "code",
   "execution_count": 113,
   "metadata": {},
   "outputs": [
    {
     "name": "stdout",
     "output_type": "stream",
     "text": [
      "0.948827202022 0.2875 0.653267528592\n"
     ]
    }
   ],
   "source": [
    "print (gamma, A_f, eta_o)"
   ]
  },
  {
   "cell_type": "markdown",
   "metadata": {
    "collapsed": true
   },
   "source": [
    "Plot - **Intercept factor** vs **Aperture width**"
   ]
  },
  {
   "cell_type": "code",
   "execution_count": 114,
   "metadata": {},
   "outputs": [
    {
     "name": "stderr",
     "output_type": "stream",
     "text": [
      "F:\\HOME\\Anaconda3\\lib\\site-packages\\ipykernel_launcher.py:4: RuntimeWarning: divide by zero encountered in double_scalars\n",
      "  after removing the cwd from sys.path.\n"
     ]
    }
   ],
   "source": [
    "len = 200\n",
    "Width = np.array(np.linspace(0, 3, len))\n",
    "Gamma = np.zeros(len)\n",
    "\n",
    "for i in range(len):\n",
    "    Gamma[i] = InterceptFactorInputs( Width[i], D_ro, sigma_sun, sigma_slope, sigma_mirror, beta, dr, phi_r)\n",
    "\n",
    "plot    "
   ]
  },
  {
   "cell_type": "code",
   "execution_count": 115,
   "metadata": {},
   "outputs": [
    {
     "name": "stdout",
     "output_type": "stream",
     "text": [
      "[ 1.          1.          1.          1.          1.          1.          1.\n",
      "  1.          1.          1.          0.99999999  0.9999998   0.99999848\n",
      "  0.99999236  0.99997195  0.99991847  0.99980168  0.99958005  0.99920306\n",
      "  0.99861511  0.99775992  0.99658469  0.99504329  0.99309855  0.99072335\n",
      "  0.98790078  0.98462369  0.98089367  0.97671982  0.9721174   0.9671065\n",
      "  0.96171082  0.95595657  0.94987153  0.94348428  0.93682353  0.92991766\n",
      "  0.92279432  0.91548011  0.90800044  0.90037934  0.8926394   0.88480172\n",
      "  0.87688591  0.86891012  0.86089104  0.85284401  0.84478303  0.83672084\n",
      "  0.82866902  0.82063802  0.81263727  0.80467524  0.79675948  0.78889674\n",
      "  0.78109301  0.77335356  0.76568302  0.75808544  0.75056434  0.74312271\n",
      "  0.73576314  0.72848778  0.72129842  0.71419651  0.7071832   0.70025937\n",
      "  0.69342564  0.68668241  0.68002989  0.6734681   0.6669969   0.660616\n",
      "  0.65432501  0.64812339  0.64201052  0.63598568  0.63004809  0.62419689\n",
      "  0.61843115  0.6127499   0.60715214  0.6016368   0.59620282  0.59084908\n",
      "  0.58557444  0.58037778  0.57525792  0.57021371  0.56524396  0.56034751\n",
      "  0.55552318  0.55076979  0.54608618  0.54147119  0.53692365  0.53244242\n",
      "  0.52802637  0.52367436  0.51938529  0.51515805  0.51099156  0.50688474\n",
      "  0.50283655  0.49884593  0.49491186  0.49103333  0.48720934  0.48343892\n",
      "  0.47972111  0.47605496  0.47243954  0.46887394  0.46535727  0.46188864\n",
      "  0.45846719  0.45509208  0.45176247  0.44847756  0.44523653  0.44203861\n",
      "  0.43888303  0.43576903  0.43269588  0.42966285  0.42666923  0.42371433\n",
      "  0.42079747  0.41791797  0.41507519  0.41226848  0.40949722  0.40676078\n",
      "  0.40405858  0.40139001  0.39875449  0.39615147  0.39358038  0.39104069\n",
      "  0.38853185  0.38605335  0.38360468  0.38118533  0.37879481  0.37643264\n",
      "  0.37409835  0.37179149  0.36951158  0.36725821  0.36503091  0.36282929\n",
      "  0.3606529   0.35850136  0.35637425  0.35427118  0.35219177  0.35013564\n",
      "  0.34810243  0.34609176  0.34410328  0.34213665  0.34019152  0.33826756\n",
      "  0.33636444  0.33448183  0.33261943  0.33077691  0.32895399  0.32715036\n",
      "  0.32536572  0.32359979  0.3218523   0.32012295  0.31841149  0.31671765\n",
      "  0.31504117  0.31338178  0.31173925  0.31011332  0.30850375  0.30691031\n",
      "  0.30533276  0.30377087  0.30222442  0.30069319  0.29917696  0.29767553\n",
      "  0.29618867  0.29471619  0.29325789  0.29181356  0.29038302  0.28896607\n",
      "  0.28756253  0.28617221  0.28479493  0.28343052  0.28207879  0.28073958\n",
      "  0.27941273]\n"
     ]
    }
   ],
   "source": [
    "print (Gamma)"
   ]
  },
  {
   "cell_type": "code",
   "execution_count": null,
   "metadata": {
    "collapsed": true
   },
   "outputs": [],
   "source": []
  },
  {
   "cell_type": "code",
   "execution_count": null,
   "metadata": {
    "collapsed": true
   },
   "outputs": [],
   "source": []
  },
  {
   "cell_type": "code",
   "execution_count": null,
   "metadata": {
    "collapsed": true
   },
   "outputs": [],
   "source": []
  }
 ],
 "metadata": {
  "kernelspec": {
   "display_name": "Python 3",
   "language": "python",
   "name": "python3"
  },
  "language_info": {
   "codemirror_mode": {
    "name": "ipython",
    "version": 3
   },
   "file_extension": ".py",
   "mimetype": "text/x-python",
   "name": "python",
   "nbconvert_exporter": "python",
   "pygments_lexer": "ipython3",
   "version": "3.6.1"
  }
 },
 "nbformat": 4,
 "nbformat_minor": 2
}
