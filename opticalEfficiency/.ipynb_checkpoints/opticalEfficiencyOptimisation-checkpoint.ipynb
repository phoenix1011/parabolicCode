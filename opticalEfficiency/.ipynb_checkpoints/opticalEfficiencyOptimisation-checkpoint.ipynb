{
 "cells": [
  {
   "cell_type": "code",
   "execution_count": 34,
   "metadata": {
    "collapsed": true
   },
   "outputs": [],
   "source": [
    "import scipy.integrate\n",
    "import numpy as np\n",
    "\n",
    "from matplotlib import pyplot\n",
    "%matplotlib inline"
   ]
  },
  {
   "cell_type": "markdown",
   "metadata": {},
   "source": [
    "input - **Fluid and Atmosphere properties**"
   ]
  },
  {
   "cell_type": "code",
   "execution_count": 35,
   "metadata": {
    "collapsed": true
   },
   "outputs": [],
   "source": [
    "I = 500                          # Incident beam radiation in W m-2\n",
    "U_l = 7                          # Overall heat loss coefficient W m-1 K-1\n",
    "T_r = 250 + 273                       # Receiver wall temperature K\n",
    "T_a = 32 + 273                        # Ambient Temperature K"
   ]
  },
  {
   "cell_type": "markdown",
   "metadata": {},
   "source": [
    "input - **Material Properties**"
   ]
  },
  {
   "cell_type": "code",
   "execution_count": 36,
   "metadata": {
    "collapsed": true
   },
   "outputs": [],
   "source": [
    "rho_m = 0.85                     # Reflectivity of the mirror\n",
    "tau_e = 0.9                      # Transmitivity of the envelope\n",
    "alpha_r = 0.9                    # Absorptivity of the receiver\n"
   ]
  },
  {
   "cell_type": "markdown",
   "metadata": {},
   "source": [
    "input - **Dimensions**"
   ]
  },
  {
   "cell_type": "code",
   "execution_count": 37,
   "metadata": {
    "collapsed": true
   },
   "outputs": [],
   "source": [
    "W_a = 0.8                    # width of the aperture in m\n",
    "\n",
    "L = 1.25                          # length of the aperture in m\n",
    "f = 0.2\n",
    "\n",
    "D_ro = 0.0128                    # outer diameter of the receiver tube in m\n",
    "\n",
    "\n",
    "sigma_sun = 0.0025\n",
    "sigma_slope = 0.004\n",
    "sigma_mirror = 0.002\n",
    "\n",
    "beta = 0.18*np.pi / 180          # misalignment angle in rad\n",
    "dr = 0.002                     # vertical disp of receiver in m\n",
    "phi_r = np.pi / 2              # rim angle in rad\n",
    "\n",
    "theta = 0                         # incident angle in rad\n",
    "\n",
    "\n",
    "# C = W_a / (np.pi* D_ro)"
   ]
  },
  {
   "cell_type": "markdown",
   "metadata": {},
   "source": [
    "Calculation - **Intercept factor**"
   ]
  },
  {
   "cell_type": "code",
   "execution_count": 38,
   "metadata": {
    "collapsed": true
   },
   "outputs": [],
   "source": [
    "def InterceptFactorInputs( W_a, D_ro, sigma_sun, sigma_slope, sigma_mirror, beta, dr, phi_r):\n",
    "    \"Determines the input for findInterceptFactor and call it\"\n",
    "    \n",
    "    C = W_a / (np.pi* D_ro)\n",
    "    sigma = np.sqrt(np.power(sigma_sun, 2) + 4*np.power(sigma_slope, 2) + np.power(sigma_mirror, 2))\n",
    "    \n",
    "#     print (sigma, C)\n",
    "#     sigma = 0.0086\n",
    "    sigmaSTAR = sigma * C\n",
    "    betaSTAR = beta * C\n",
    "    dSTAR = dr / D_ro\n",
    "    \n",
    "#     print (C)\n",
    "    return InterceptFactor( sigmaSTAR, betaSTAR, dSTAR, phi_r)"
   ]
  },
  {
   "cell_type": "code",
   "execution_count": 39,
   "metadata": {
    "collapsed": true
   },
   "outputs": [],
   "source": [
    "def InterceptFactor( sigmaSTAR, betaSTAR, dSTAR, phi_r ):\n",
    "    \"Computes the intercept factor from the given parameters\"\n",
    "    \n",
    "    EF = lambda phi: float(((scipy.special.erf(( np.sin(phi_r)*(1 + np.cos(phi))*(1 - 2*dSTAR*np.sin(phi)) - (np.pi*betaSTAR*(1 + np.cos(phi_r)))) / (np.sqrt(2)*np.pi*sigmaSTAR*(1 + np.cos(phi_r)))) - scipy.special.erf(-( np.sin(phi_r)*(1 + np.cos(phi))*(1 + 2*dSTAR*np.sin(phi)) + (np.pi*betaSTAR*(1 + np.cos(phi_r)))) / (np.sqrt(2)*np.pi*sigmaSTAR*(1 + np.cos(phi_r))))) / (1 + np.cos(phi))))\n",
    "    \n",
    "    integrated_result = scipy.integrate.quad(EF, 0, phi_r)\n",
    "    IF = ((1 + np.cos(phi_r)) / (2*np.sin(phi_r))) * integrated_result[0]\n",
    "    \n",
    "    return IF"
   ]
  },
  {
   "cell_type": "markdown",
   "metadata": {},
   "source": [
    "Calculation - **Geometric factor**"
   ]
  },
  {
   "cell_type": "code",
   "execution_count": 40,
   "metadata": {
    "collapsed": true
   },
   "outputs": [],
   "source": [
    "def GeometricFactor( W_a, f, L):\n",
    "    \"Determines the Geometric Factor\"\n",
    "    \n",
    "    h_p = f\n",
    "    \n",
    "    GF = (2/3 * W_a * h_p + f * W_a * (1 + np.power(W_a, 2) / (48*np.power(f, 2)))) / (W_a*L)\n",
    "    \n",
    "    return GF"
   ]
  },
  {
   "cell_type": "markdown",
   "metadata": {},
   "source": [
    "Calculation - **Optical Efficiency**"
   ]
  },
  {
   "cell_type": "code",
   "execution_count": 41,
   "metadata": {
    "collapsed": true
   },
   "outputs": [],
   "source": [
    "def OpticalEfficiency( rho_m, tau_e, alpha_r, gamma, theta, A_f):\n",
    "    \"Determines the Optical Efficiency\"\n",
    "    \n",
    "    eta_o = rho_m * tau_e * alpha_r * gamma * (1 - A_f*np.tan(theta)) * np.cos(theta)\n",
    "    \n",
    "    return eta_o"
   ]
  },
  {
   "cell_type": "code",
   "execution_count": 42,
   "metadata": {},
   "outputs": [
    {
     "name": "stdout",
     "output_type": "stream",
     "text": [
      "0.945634377628\n"
     ]
    }
   ],
   "source": [
    "gamma = InterceptFactorInputs( W_a, D_ro, sigma_sun, sigma_slope, sigma_mirror, beta, dr, phi_r)\n",
    "\n",
    "print (gamma)\n",
    "A_f = GeometricFactor( W_a, f, L)\n",
    "\n",
    "eta_o = OpticalEfficiency( rho_m, tau_e, alpha_r, gamma, theta, A_f)"
   ]
  },
  {
   "cell_type": "markdown",
   "metadata": {},
   "source": [
    "Calculation - **Thermal Efficiency**"
   ]
  },
  {
   "cell_type": "code",
   "execution_count": 43,
   "metadata": {
    "collapsed": true
   },
   "outputs": [],
   "source": [
    "def ThermalEfficiency( eta_o, I, W_a, U_l, T_r, T_a):\n",
    "    \"Determines the thermal Efficiency\"\n",
    "    \n",
    "    D_ro = 0.0128\n",
    "    C = W_a / (np.pi* D_ro)\n",
    "    \n",
    "    eta_t = eta_o - ((U_l*(T_r - T_a))/(I*C))\n",
    "    \n",
    "    return eta_t"
   ]
  },
  {
   "cell_type": "code",
   "execution_count": null,
   "metadata": {},
   "outputs": [],
   "source": []
  },
  {
   "cell_type": "markdown",
   "metadata": {
    "collapsed": true
   },
   "source": [
    "Plot - **Intercept factor** vs **Aperture width**"
   ]
  },
  {
   "cell_type": "code",
   "execution_count": 48,
   "metadata": {},
   "outputs": [
    {
     "name": "stderr",
     "output_type": "stream",
     "text": [
      "F:\\HOME\\Anaconda3\\lib\\site-packages\\ipykernel_launcher.py:4: RuntimeWarning: divide by zero encountered in double_scalars\n",
      "  after removing the cwd from sys.path.\n",
      "F:\\HOME\\Anaconda3\\lib\\site-packages\\ipykernel_launcher.py:7: RuntimeWarning: divide by zero encountered in double_scalars\n",
      "  import sys\n"
     ]
    },
    {
     "data": {
      "image/png": "[encoded data removed]",
      "text/plain": [
       "<matplotlib.figure.Figure at 0x21f9bd850b8>"
      ]
     },
     "metadata": {},
     "output_type": "display_data"
    }
   ],
   "source": [
    "len = 200\n",
    "Width = np.array(np.linspace(0, 2.5, len))\n",
    "Gamma1 = np.zeros(len)\n",
    "Gamma2 = np.zeros(len)\n",
    "Gamma3 = np.zeros(len)\n",
    "eta_o1 = np.zeros(len)\n",
    "eta_o2 = np.zeros(len)\n",
    "eta_o3 = np.zeros(len)\n",
    "eta_t1 = np.zeros(len)\n",
    "eta_t2 = np.zeros(len)\n",
    "eta_t3 = np.zeros(len)\n",
    "\n",
    "\n",
    "for i in range(len):\n",
    "    D_ro = 0.013\n",
    "    Gamma1[i] = InterceptFactorInputs( Width[i], D_ro, sigma_sun, sigma_slope, sigma_mirror, beta, dr, phi_r)\n",
    "    D_ro = 0.023\n",
    "    Gamma2[i] = InterceptFactorInputs( Width[i], D_ro, sigma_sun, sigma_slope, sigma_mirror, beta, dr, phi_r)\n",
    "    D_ro = 0.038\n",
    "    Gamma3[i] = InterceptFactorInputs( Width[i], D_ro, sigma_sun, sigma_slope, sigma_mirror, beta, dr, phi_r)\n",
    "    \n",
    "\n",
    "for i in range(len):\n",
    "    D_ro = 0.013\n",
    "    eta_o1[i] = OpticalEfficiency( rho_m, tau_e, alpha_r, Gamma1[i], theta, A_f)\n",
    "    D_ro = 0.023\n",
    "    eta_o2[i] = OpticalEfficiency( rho_m, tau_e, alpha_r, Gamma2[i], theta, A_f)\n",
    "    D_ro = 0.038\n",
    "    eta_o3[i] = OpticalEfficiency( rho_m, tau_e, alpha_r, Gamma3[i], theta, A_f)\n",
    "\n",
    "for i in range(len):\n",
    "    D_ro = 0.013\n",
    "    eta_t1[i] = ThermalEfficiency( eta_o1[i], I, Width[i], U_l, T_r, T_a)\n",
    "    D_ro = 0.023\n",
    "    eta_t2[i] = ThermalEfficiency( eta_o2[i], I, Width[i], U_l, T_r, T_a)\n",
    "    D_ro = 0.038\n",
    "    eta_t3[i] = ThermalEfficiency( eta_o3[i], I, Width[i], U_l, T_r, T_a)\n",
    "    \n",
    "pyplot.figure(figsize=(12,10))\n",
    "pyplot.tick_params(axis='both', labelsize=16)\n",
    "pyplot.xlabel('Aperture Width $(m)$', fontsize=16)\n",
    "pyplot.ylabel('Intercept Factor $(\\%)$', fontsize=16)\n",
    "\n",
    "pyplot.plot(Width, Gamma1, linewidth=1.3, color = 'black', linestyle=(0, (7, 14)), marker='o', markevery=45, label=\"$D_{r,o}$ = 13 mm\")\n",
    "pyplot.plot(Width, Gamma2, linewidth=1.3, color = 'black', linestyle=(0, (1, 5)), marker='s',markevery=45, label=\"$D_{r,o}$ = 23 mm\")\n",
    "pyplot.plot(Width, Gamma3, linewidth=1.3, color = 'black', linestyle=(0, (7, 20, 2, 20, 2, 20)), marker='^',markevery=45, label=\"$D_{r,o}$ = 33 mm\")\n",
    "pyplot.legend( prop={'size': 16}, frameon=False)\n",
    "# pyplot.tight_layout()\n",
    "\n",
    "pyplot.savefig('InterceptFactor_Width.png')"
   ]
  },
  {
   "cell_type": "markdown",
   "metadata": {},
   "source": [
    "Plot - **Efficiency** vs **Aperture Width**"
   ]
  },
  {
   "cell_type": "code",
   "execution_count": 16,
   "metadata": {},
   "outputs": [
    {
     "data": {
      "image/png": "[encoded data removed]",
      "text/plain": [
       "<matplotlib.figure.Figure at 0x21f9ca96c50>"
      ]
     },
     "metadata": {},
     "output_type": "display_data"
    }
   ],
   "source": [
    "pyplot.figure(figsize=(12,10))\n",
    "pyplot.xlim(0.2, 1.4)\n",
    "pyplot.ylim(0,0.7)\n",
    "\n",
    "pyplot.tick_params(axis='both', labelsize=16)\n",
    "pyplot.xlabel('Aperture Width $(m)$', fontsize=16)\n",
    "pyplot.ylabel('Efficiency $(\\%)$', fontsize=16)\n",
    "\n",
    "pyplot.plot(Width, eta_o, linewidth=1.3, color = 'black', linestyle=(0, (7, 14)), marker='o', markevery=60, label=\"Optical Efficiency\")\n",
    "pyplot.plot(Width, eta_t, linewidth=1.3, color = 'black', linestyle=(0, (1, 5)), marker='s',markevery=60, label=\"Thermal Efficiency\")\n",
    "\n",
    "pyplot.legend( prop={'size': 16}, frameon=False)\n",
    "# pyplot.tight_layout()\n",
    "\n",
    "pyplot.savefig('Optical and Thermal efficiency.png')"
   ]
  },
  {
   "cell_type": "markdown",
   "metadata": {},
   "source": [
    "Plot - **Intercept factor** vs **Receiver Diameter**"
   ]
  },
  {
   "cell_type": "code",
   "execution_count": 165,
   "metadata": {},
   "outputs": [
    {
     "name": "stderr",
     "output_type": "stream",
     "text": [
      "F:\\HOME\\Anaconda3\\lib\\site-packages\\ipykernel_launcher.py:4: RuntimeWarning: divide by zero encountered in double_scalars\n",
      "  after removing the cwd from sys.path.\n",
      "F:\\HOME\\Anaconda3\\lib\\site-packages\\ipykernel_launcher.py:11: RuntimeWarning: divide by zero encountered in double_scalars\n",
      "  # This is added back by InteractiveShellApp.init_path()\n",
      "F:\\HOME\\Anaconda3\\lib\\site-packages\\ipykernel_launcher.py:4: RuntimeWarning: invalid value encountered in double_scalars\n",
      "  after removing the cwd from sys.path.\n",
      "F:\\HOME\\Anaconda3\\lib\\site-packages\\scipy\\integrate\\quadpack.py:364: IntegrationWarning: The occurrence of roundoff error is detected, which prevents \n",
      "  the requested tolerance from being achieved.  The error may be \n",
      "  underestimated.\n",
      "  warnings.warn(msg, IntegrationWarning)\n"
     ]
    },
    {
     "data": {
      "image/png": "[encoded data removed]",
      "text/plain": [
       "<matplotlib.figure.Figure at 0x223b64d8470>"
      ]
     },
     "metadata": {},
     "output_type": "display_data"
    }
   ],
   "source": [
    "Dia_ro = np.array(np.linspace(0, 0.020, len))\n",
    "Gamma1 = np.zeros(len)\n",
    "\n",
    "for i in range(len):\n",
    "    Gamma1[i] = InterceptFactorInputs( W_a, Dia_ro[i], sigma_sun, sigma_slope, sigma_mirror, beta, dr, phi_r)\n",
    "\n",
    "pyplot.figure(figsize=(12,10))\n",
    "pyplot.tick_params(axis='both', labelsize=16)\n",
    "pyplot.xlabel('Receiver Dia $(m)$', fontsize=16)\n",
    "pyplot.ylabel('Intercept Factor $(\\%)$', fontsize=16)\n",
    "\n",
    "pyplot.plot(Dia_ro, Gamma1, linewidth=1.3, color = 'black', linestyle=(0, (7, 14)), marker='o', markevery=30, label=\"$W_a$ = 0.8m\")\n",
    "\n",
    "\n",
    "pyplot.legend(loc=4, prop={'size': 16}, frameon=False)\n",
    "# pyplot.tight_layout()\n",
    "\n",
    "pyplot.savefig('InterceptFactor_Dia.png')"
   ]
  },
  {
   "cell_type": "code",
   "execution_count": 166,
   "metadata": {},
   "outputs": [
    {
     "data": {
      "text/plain": [
       "0.057719563919515444"
      ]
     },
     "execution_count": 166,
     "metadata": {},
     "output_type": "execute_result"
    }
   ],
   "source": [
    "InterceptFactorInputs( 0.8, 0.0254, sigma_sun, sigma_slope, sigma_mirror, 1*np.pi/180, 0.08, phi_r)"
   ]
  },
  {
   "cell_type": "code",
   "execution_count": null,
   "metadata": {
    "collapsed": true
   },
   "outputs": [],
   "source": [
    "\n"
   ]
  },
  {
   "cell_type": "code",
   "execution_count": null,
   "metadata": {
    "collapsed": true
   },
   "outputs": [],
   "source": []
  },
  {
   "cell_type": "code",
   "execution_count": null,
   "metadata": {
    "collapsed": true
   },
   "outputs": [],
   "source": []
  },
  {
   "cell_type": "code",
   "execution_count": null,
   "metadata": {
    "collapsed": true
   },
   "outputs": [],
   "source": []
  },
  {
   "cell_type": "code",
   "execution_count": null,
   "metadata": {
    "collapsed": true
   },
   "outputs": [],
   "source": []
  },
  {
   "cell_type": "code",
   "execution_count": null,
   "metadata": {
    "collapsed": true
   },
   "outputs": [],
   "source": []
  },
  {
   "cell_type": "code",
   "execution_count": null,
   "metadata": {
    "collapsed": true
   },
   "outputs": [],
   "source": []
  },
  {
   "cell_type": "code",
   "execution_count": null,
   "metadata": {
    "collapsed": true
   },
   "outputs": [],
   "source": []
  },
  {
   "cell_type": "code",
   "execution_count": null,
   "metadata": {
    "collapsed": true
   },
   "outputs": [],
   "source": []
  },
  {
   "cell_type": "code",
   "execution_count": null,
   "metadata": {
    "collapsed": true
   },
   "outputs": [],
   "source": []
  },
  {
   "cell_type": "code",
   "execution_count": null,
   "metadata": {
    "collapsed": true
   },
   "outputs": [],
   "source": []
  },
  {
   "cell_type": "code",
   "execution_count": null,
   "metadata": {
    "collapsed": true
   },
   "outputs": [],
   "source": []
  },
  {
   "cell_type": "code",
   "execution_count": null,
   "metadata": {
    "collapsed": true
   },
   "outputs": [],
   "source": []
  },
  {
   "cell_type": "code",
   "execution_count": null,
   "metadata": {
    "collapsed": true
   },
   "outputs": [],
   "source": []
  },
  {
   "cell_type": "code",
   "execution_count": null,
   "metadata": {
    "collapsed": true
   },
   "outputs": [],
   "source": []
  },
  {
   "cell_type": "code",
   "execution_count": null,
   "metadata": {
    "collapsed": true
   },
   "outputs": [],
   "source": []
  },
  {
   "cell_type": "code",
   "execution_count": null,
   "metadata": {
    "collapsed": true
   },
   "outputs": [],
   "source": []
  },
  {
   "cell_type": "code",
   "execution_count": null,
   "metadata": {
    "collapsed": true
   },
   "outputs": [],
   "source": []
  },
  {
   "cell_type": "code",
   "execution_count": null,
   "metadata": {
    "collapsed": true
   },
   "outputs": [],
   "source": []
  },
  {
   "cell_type": "code",
   "execution_count": null,
   "metadata": {
    "collapsed": true
   },
   "outputs": [],
   "source": []
  },
  {
   "cell_type": "code",
   "execution_count": null,
   "metadata": {
    "collapsed": true
   },
   "outputs": [],
   "source": []
  }
 ],
 "metadata": {
  "kernelspec": {
   "display_name": "Python 3",
   "language": "python",
   "name": "python3"
  },
  "language_info": {
   "codemirror_mode": {
    "name": "ipython",
    "version": 3
   },
   "file_extension": ".py",
   "mimetype": "text/x-python",
   "name": "python",
   "nbconvert_exporter": "python",
   "pygments_lexer": "ipython3",
   "version": "3.6.1"
  }
 },
 "nbformat": 4,
 "nbformat_minor": 2
}
