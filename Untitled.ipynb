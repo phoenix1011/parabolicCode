{
 "cells": [
  {
   "cell_type": "markdown",
   "metadata": {},
   "source": [
    "Guven 1986 - **Intercept** Factor"
   ]
  },
  {
   "cell_type": "code",
   "execution_count": null,
   "metadata": {
    "collapsed": true
   },
   "outputs": [],
   "source": []
  },
  {
   "cell_type": "code",
   "execution_count": 9,
   "metadata": {
    "collapsed": true
   },
   "outputs": [],
   "source": [
    "import numpy as np\n",
    "from scipy import special as sp\n",
    "\n",
    "from matplotlib import pyplot\n",
    "%matplotlib inline"
   ]
  },
  {
   "cell_type": "code",
   "execution_count": 10,
   "metadata": {
    "collapsed": true
   },
   "outputs": [],
   "source": [
    "def calInputs(W_a, D_ro, sigma_sun, sigma_slope, sigma_mirror, beta, dr, phi_r):\n",
    "    \"\"\"\n",
    "    Calulates intermediate constants\n",
    "    \"\"\"\n",
    "    \n",
    "    C = W_a / (np.pi* D_ro)\n",
    "    \n",
    "    sigma = np.sqrt(np.power(sigma_sun, 2) + 4*np.power(sigma_slope, 2) + np.power(sigma_mirror, 2))\n",
    "    \n",
    "    sigmaSTAR = sigma * C\n",
    "    betaSTAR = beta * C\n",
    "    dSTAR = dr / D_ro\n",
    "    \n",
    "    integrateFunc(phi_r, dSTAR, betaSTAR, sigmaSTAR)"
   ]
  },
  {
   "cell_type": "code",
   "execution_count": 11,
   "metadata": {
    "collapsed": true
   },
   "outputs": [],
   "source": [
    "def erfFunc(phi, phi_r, dSTAR, betaSTAR, sigmaSTAR):\n",
    "    \"\"\"\n",
    "    Evaluates the error function\n",
    "    \"\"\"\n",
    "\n",
    "    \n",
    "    errorFuncArg1 = ((np.sin(phi_r) * (1 + np.cos(phi)) * (1 - 2*dSTAR*(np.sin(phi)))) - (np.pi * betaSTAR *  (1 + np.cos(phi_r))))\n",
    "    \n",
    "    errorFuncArg2 = -((np.sin(phi_r) * (1 + np.cos(phi)) * (1 + 2*dSTAR*(np.sin(phi)))) + (np.pi * betaSTAR *  (1 + np.cos(phi_r))))\n",
    "    \n",
    "    errorFuncArg3 = np.sqrt(2) * np.pi * sigmaSTAR * (1 + np.cos(phi_r))\n",
    "    \n",
    "    \n",
    "    ErrorFunc1 = sp.erf(errorFuncArg1 / errorFuncArg3) - sp.erf(errorFuncArg2 / errorFuncArg3)\n",
    "    \n",
    "    Constant = ((1 + np.cos(phi_r)) / (2 * np.sin(phi_r)))\n",
    "    \n",
    "    Expression = Constant * ErrorFunc1 / (1 + np.cos(phi))\n",
    "    \n",
    "    return Expression\n",
    "    \n",
    "    "
   ]
  },
  {
   "cell_type": "code",
   "execution_count": 12,
   "metadata": {
    "collapsed": true
   },
   "outputs": [],
   "source": [
    "def integrateFunc(phi_r, dSTAR, betaSTAR, sigmaSTAR):\n",
    "    \"\"\"\n",
    "    Evaluates the integral\n",
    "    \"\"\"\n",
    "        \n",
    "    \n",
    "    start = 0\n",
    "    end = phi_r\n",
    "    division = 5000\n",
    "    step = (end - start) / division\n",
    "    Integrate = 0\n",
    "    \n",
    "    for i in range(division-1):\n",
    "        \n",
    "        Trap = 0.5 * (erfFunc(start, phi_r, dSTAR, betaSTAR, sigmaSTAR) + erfFunc(start+step, phi_r, dSTAR, betaSTAR, sigmaSTAR)) * step\n",
    "        \n",
    "        Integrate = Integrate + Trap\n",
    "        \n",
    "        start = start + step\n",
    "    \n",
    "    return Integrate"
   ]
  },
  {
   "cell_type": "code",
   "execution_count": 13,
   "metadata": {},
   "outputs": [
    {
     "name": "stdout",
     "output_type": "stream",
     "text": [
      "None\n"
     ]
    }
   ],
   "source": [
    "    D_ro = 0.0128\n",
    "    W_a = 0.8\n",
    "    \n",
    "#     C = W_a / (np.pi * D)    \n",
    "    \n",
    "    phi_r = np.pi/2\n",
    "    \n",
    "    sigma_sun = 0.0025\n",
    "    sigma_slope = 0.004\n",
    "    sigma_mirror = 0.002\n",
    "    \n",
    "#     sigmaSTAR = 0.0086 * C\n",
    "    \n",
    "    beta = 0.18 * np.pi / 180\n",
    "    \n",
    "#     betaSTAR = beta * C\n",
    "    \n",
    "    dr = 0.002\n",
    "    \n",
    "#     dSTAR = dr / D\n",
    "    \n",
    "    value = calInputs(W_a, D_ro, sigma_sun, sigma_slope, sigma_mirror, beta, dr, phi_r)\n",
    "    \n",
    "    print (value)"
   ]
  },
  {
   "cell_type": "code",
   "execution_count": null,
   "metadata": {},
   "outputs": [
    {
     "name": "stderr",
     "output_type": "stream",
     "text": [
      "F:\\HOME\\Anaconda3\\lib\\site-packages\\ipykernel_launcher.py:14: RuntimeWarning: divide by zero encountered in double_scalars\n",
      "  \n"
     ]
    }
   ],
   "source": [
    "len = 200\n",
    "Width = np.array(np.linspace(0, 2, len))\n",
    "Gamma = np.zeros(len)\n",
    "\n",
    "for i in range(len):\n",
    "    Gamma[i] = calInputs(Width[i], D_ro, sigma_sun, sigma_slope, sigma_mirror, beta, dr, phi_r)"
   ]
  },
  {
   "cell_type": "code",
   "execution_count": null,
   "metadata": {
    "collapsed": true
   },
   "outputs": [],
   "source": [
    "pyplot.figure(figsize=(12,10))\n",
    "pyplot.tick_params(axis='both', labelsize=16)\n",
    "pyplot.xlabel('Aperture Width $(m)$', fontsize=16)\n",
    "pyplot.ylabel('Intercept Factor $(\\%)$', fontsize=16)\n",
    "\n",
    "pyplot.plot(Width, Gamma, linewidth=1.3, color = 'black', linestyle=(0, (7, 14)), marker='o', markevery=60, label=\"$D_{r,o}$ = 12 mm\")\n",
    "# pyplot.plot(Width, eta_o, linewidth=1.3, color = 'black', linestyle=(0, (1, 5)), marker='s',markevery=60, label=\"Optical Efficiency, $D_{r,o}$ = 12 mm\")\n",
    "\n",
    "pyplot.legend( prop={'size': 16}, frameon=False)\n",
    "# pyplot.tight_layout()\n",
    "\n",
    "pyplot.savefig('InterceptFactor_Width.png')"
   ]
  },
  {
   "cell_type": "code",
   "execution_count": null,
   "metadata": {
    "collapsed": true
   },
   "outputs": [],
   "source": [
    "print (Gamma)"
   ]
  },
  {
   "cell_type": "code",
   "execution_count": null,
   "metadata": {
    "collapsed": true
   },
   "outputs": [],
   "source": []
  },
  {
   "cell_type": "code",
   "execution_count": null,
   "metadata": {
    "collapsed": true
   },
   "outputs": [],
   "source": []
  },
  {
   "cell_type": "code",
   "execution_count": null,
   "metadata": {
    "collapsed": true
   },
   "outputs": [],
   "source": []
  },
  {
   "cell_type": "code",
   "execution_count": null,
   "metadata": {
    "collapsed": true
   },
   "outputs": [],
   "source": []
  },
  {
   "cell_type": "code",
   "execution_count": null,
   "metadata": {
    "collapsed": true
   },
   "outputs": [],
   "source": []
  },
  {
   "cell_type": "code",
   "execution_count": null,
   "metadata": {
    "collapsed": true
   },
   "outputs": [],
   "source": []
  },
  {
   "cell_type": "code",
   "execution_count": null,
   "metadata": {
    "collapsed": true
   },
   "outputs": [],
   "source": []
  },
  {
   "cell_type": "code",
   "execution_count": null,
   "metadata": {
    "collapsed": true
   },
   "outputs": [],
   "source": []
  },
  {
   "cell_type": "code",
   "execution_count": null,
   "metadata": {
    "collapsed": true
   },
   "outputs": [],
   "source": []
  },
  {
   "cell_type": "code",
   "execution_count": null,
   "metadata": {
    "collapsed": true
   },
   "outputs": [],
   "source": []
  }
 ],
 "metadata": {
  "kernelspec": {
   "display_name": "Python 3",
   "language": "python",
   "name": "python3"
  },
  "language_info": {
   "codemirror_mode": {
    "name": "ipython",
    "version": 3
   },
   "file_extension": ".py",
   "mimetype": "text/x-python",
   "name": "python",
   "nbconvert_exporter": "python",
   "pygments_lexer": "ipython3",
   "version": "3.6.1"
  }
 },
 "nbformat": 4,
 "nbformat_minor": 2
}
